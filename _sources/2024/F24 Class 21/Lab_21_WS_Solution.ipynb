{
  "nbformat": 4,
  "nbformat_minor": 0,
  "metadata": {
    "colab": {
      "provenance": []
    },
    "kernelspec": {
      "name": "python3",
      "display_name": "Python 3"
    },
    "language_info": {
      "name": "python"
    }
  },
  "cells": [
    {
      "cell_type": "markdown",
      "source": [
        "Lab 21 Worksheet\n",
        "\n",
        "Name:  "
      ],
      "metadata": {
        "id": "yklxYDcVHhHx"
      }
    },
    {
      "cell_type": "markdown",
      "source": [
        "Create a 1 by 4 row vector R of random integers, and also a 4 by 1 column vector C of random integers. Use matrix multiplication to multiply them. Can you multiply R times C? C times R?"
      ],
      "metadata": {
        "id": "QEF4_1sdHljt"
      }
    },
    {
      "cell_type": "code",
      "source": [
        "# 1\n",
        "\n",
        "import numpy as np\n",
        "from numpy import array\n",
        "from numpy import arange\n",
        "\n",
        "R = np.random.randint(1,10,(1,4))\n",
        "C = np.random.randint(1,10,(4,1))\n",
        "print(R)\n",
        "print(C)\n",
        "print()\n",
        "print(R @ C)\n",
        "print()\n",
        "print(C @ R)\n"
      ],
      "metadata": {
        "colab": {
          "base_uri": "https://localhost:8080/"
        },
        "id": "UN5wpStdJarm",
        "outputId": "29d36a3e-8710-44af-f259-c6f051da23ff"
      },
      "execution_count": 3,
      "outputs": [
        {
          "output_type": "stream",
          "name": "stdout",
          "text": [
            "[[4 1 7 9]]\n",
            "[[3]\n",
            " [9]\n",
            " [9]\n",
            " [3]]\n",
            "\n",
            "[[111]]\n",
            "\n",
            "[[12  3 21 27]\n",
            " [36  9 63 81]\n",
            " [36  9 63 81]\n",
            " [12  3 21 27]]\n"
          ]
        }
      ]
    },
    {
      "cell_type": "markdown",
      "source": [
        "For two square matrices that have the same dimensions, you can use both array multiplication and matrix multiplication on them. Create two 3 x 3 matrices and demonstrate this."
      ],
      "metadata": {
        "id": "jN4OaJ8XKJfC"
      }
    },
    {
      "cell_type": "code",
      "execution_count": 7,
      "metadata": {
        "colab": {
          "base_uri": "https://localhost:8080/"
        },
        "id": "dQNPjfIzHf8q",
        "outputId": "ab051133-463c-4f37-c295-3969cce0f2e0"
      },
      "outputs": [
        {
          "output_type": "stream",
          "name": "stdout",
          "text": [
            "[[2 2 1]\n",
            " [4 1 3]\n",
            " [2 3 4]]\n",
            "\n",
            "[[1 1 1]\n",
            " [3 1 2]\n",
            " [2 1 4]]\n",
            "\n",
            "[[ 2  2  1]\n",
            " [12  1  6]\n",
            " [ 4  3 16]]\n",
            "\n",
            "[[10  5 10]\n",
            " [13  8 18]\n",
            " [19  9 24]]\n"
          ]
        }
      ],
      "source": [
        "# 2\n",
        "\n",
        "A = np.random.randint(1,5,(3,3))\n",
        "B = np.random.randint(1,5,(3,3))\n",
        "print(A)\n",
        "print()\n",
        "print(B)\n",
        "print()\n",
        "print(A * B)\n",
        "print()\n",
        "print(A @ B)"
      ]
    },
    {
      "cell_type": "markdown",
      "source": [
        "Create a vector x which consists of 20 equally spaced points in the range from -pi to + pi. Create a y vector which is sin(x). Plot the points."
      ],
      "metadata": {
        "id": "OKApF0F1LPss"
      }
    },
    {
      "cell_type": "code",
      "source": [
        "# 3\n",
        "\n",
        "import matplotlib.pyplot as plt\n",
        "from math import pi\n",
        "\n",
        "x = np.linspace(-pi, pi, 20)\n",
        "y = np.sin(x)\n",
        "plt.plot(x,y)\n"
      ],
      "metadata": {
        "colab": {
          "base_uri": "https://localhost:8080/",
          "height": 447
        },
        "id": "iN4S1ciCMNa4",
        "outputId": "8cbea017-f6a6-4e97-ef81-246fbd6f9914"
      },
      "execution_count": 9,
      "outputs": [
        {
          "output_type": "execute_result",
          "data": {
            "text/plain": [
              "[<matplotlib.lines.Line2D at 0x7a580ce58f40>]"
            ]
          },
          "metadata": {},
          "execution_count": 9
        },
        {
          "output_type": "display_data",
          "data": {
            "text/plain": [
              "<Figure size 640x480 with 1 Axes>"
            ],
            "image/png": "[encoded data removed]"
          },
          "metadata": {}
        }
      ]
    },
    {
      "cell_type": "markdown",
      "source": [
        "Find two ways to create a 3 x 5 matrix of all integer 100's, without using **full**."
      ],
      "metadata": {
        "id": "Z3VVhDUSNIbv"
      }
    },
    {
      "cell_type": "code",
      "source": [
        "# 4\n",
        "\n",
        "mymat = np.zeros((3,5), dtype=np.int16) + 100\n",
        "print(mymat)\n",
        "print()\n",
        "\n",
        "mymat = np.ones((3,5), dtype=np.int16) * 100\n",
        "print(mymat)\n",
        "print()\n"
      ],
      "metadata": {
        "colab": {
          "base_uri": "https://localhost:8080/"
        },
        "id": "MnJ0upeyNbID",
        "outputId": "645ad451-d39c-41df-a92f-67ed4d8c003f"
      },
      "execution_count": 10,
      "outputs": [
        {
          "output_type": "stream",
          "name": "stdout",
          "text": [
            "[[100 100 100 100 100]\n",
            " [100 100 100 100 100]\n",
            " [100 100 100 100 100]]\n",
            "\n",
            "[[100 100 100 100 100]\n",
            " [100 100 100 100 100]\n",
            " [100 100 100 100 100]]\n",
            "\n"
          ]
        }
      ]
    },
    {
      "cell_type": "markdown",
      "source": [
        "Generate a vector of 20 random integers, each in the range from 50 to 100. Create a variable evens that stores the even numbers from the vector, and a variable odds that stores the odd numbers from the vector."
      ],
      "metadata": {
        "id": "_XSyWWs4OWq8"
      }
    },
    {
      "cell_type": "code",
      "source": [
        "# 5\n",
        "\n",
        "v = np.random.randint(50,101,20)\n",
        "print(v)\n",
        "print()\n",
        "\n",
        "evens = v[v % 2 == 0]\n",
        "print(evens)\n",
        "print()\n",
        "odds = v[v % 2 != 0]\n",
        "print(odds)"
      ],
      "metadata": {
        "colab": {
          "base_uri": "https://localhost:8080/"
        },
        "id": "CZNjpQH7Ov3B",
        "outputId": "2ac6b2eb-0638-4a38-c48f-227365fd3ce6"
      },
      "execution_count": 11,
      "outputs": [
        {
          "output_type": "stream",
          "name": "stdout",
          "text": [
            "[89 55 59 66 99 83 82 85 69 96 95 89 72 52 70 89 86 54 96 79]\n",
            "\n",
            "[66 82 96 72 52 70 86 54 96]\n",
            "\n",
            "[89 55 59 99 83 85 69 95 89 89 79]\n"
          ]
        }
      ]
    },
    {
      "cell_type": "markdown",
      "source": [
        "Write a function that will receive as input a square matrix of numbers, and will return True if it is a diagonal matrix, or False if not. Assume that the matrix is square. Hint: investigate the **all** method for this."
      ],
      "metadata": {
        "id": "NKRdP4vwO8Ml"
      }
    },
    {
      "cell_type": "code",
      "source": [
        "# 6\n",
        "\n",
        "def isdiagonal(inmat):\n",
        "    \"\"\"Returns true if the square matrix is a diagonal matrix, False if not\"\"\"\n",
        "    mat = np.copy(inmat)\n",
        "    dg = np.diag(mat)\n",
        "    newmat = np.diag(dg)\n",
        "    logmat = newmat == mat\n",
        "    return logmat.all()\n",
        "\n",
        "A = np.array([[1,0,0],[0,2,0],[0,0,3]])\n",
        "print(A)\n",
        "print(isdiagonal(A))\n",
        "\n"
      ],
      "metadata": {
        "colab": {
          "base_uri": "https://localhost:8080/"
        },
        "id": "dpeyJEYAPzU2",
        "outputId": "2b6e88a7-2eec-46c3-9970-fe10af8a8d50"
      },
      "execution_count": 12,
      "outputs": [
        {
          "output_type": "stream",
          "name": "stdout",
          "text": [
            "[[1 0 0]\n",
            " [0 2 0]\n",
            " [0 0 3]]\n",
            "True\n"
          ]
        }
      ]
    },
    {
      "cell_type": "markdown",
      "source": [
        "Write a function that will receive as input a square matrix of numbers, and will return True if it is symmetric, or False if not. Assume that the matrix is square."
      ],
      "metadata": {
        "id": "q0L0nq0VSEZ3"
      }
    },
    {
      "cell_type": "code",
      "source": [
        "# 7\n",
        "\n",
        "def issymmetric(inmat):\n",
        "    \"\"\"Returns true if the square matrix is symmetric, False if not\"\"\"\n",
        "    mat = np.copy(inmat)\n",
        "    return (mat == mat.T).all()\n",
        "\n",
        "A = np.array([[1,0,0],[0,2,0],[0,0,3]])\n",
        "print(A)\n",
        "print(issymmetric(A))\n",
        "\n",
        "B = np.array([[1,2,3],[2,4,5],[3,4,6]])\n",
        "print(B)\n",
        "print(issymmetric(B))"
      ],
      "metadata": {
        "colab": {
          "base_uri": "https://localhost:8080/"
        },
        "id": "y0nPx5oGSQgZ",
        "outputId": "e5868271-066e-49bb-f08c-8d101cdf9692"
      },
      "execution_count": 16,
      "outputs": [
        {
          "output_type": "stream",
          "name": "stdout",
          "text": [
            "[[1 0 0]\n",
            " [0 2 0]\n",
            " [0 0 3]]\n",
            "True\n",
            "[[1 2 3]\n",
            " [2 4 5]\n",
            " [3 4 6]]\n",
            "False\n"
          ]
        }
      ]
    },
    {
      "cell_type": "markdown",
      "source": [
        "And now for some real fun... write your own matrix multiplication function!  To make it easier, assume that the matrix dimensions are correct.  Go back and read the description in the Reading. For each element in C, you will have 2 nested loops to loop through the rows of A and columns of B."
      ],
      "metadata": {
        "id": "iEuZdKECTGJq"
      }
    },
    {
      "cell_type": "code",
      "source": [
        "# 8\n",
        "\n",
        "def mymatmult(A, B):\n",
        "    \"\"\" Performs matrix multiplication A * B.\"\"\"\n",
        "    rowsC = A.shape[0]\n",
        "    colsC = B.shape[1]\n",
        "    C = np.zeros((rowsC, colsC), dtype = np.int64)\n",
        "    for i in range(rowsC):\n",
        "        for j in range(colsC):\n",
        "            C[i,j] = (A[i,:] * B[:,j]).sum()\n",
        "    return C\n",
        "\n",
        "A = np.array([[1,2,3],[4,5,6],[7,8,9]])\n",
        "B = np.array([[1,2,3],[4,5,6],[7,8,9]])\n",
        "print(A)\n",
        "print()\n",
        "print(B)\n",
        "print()\n",
        "print(mymatmult(A,B))\n",
        "print()\n",
        "print(A @ B)"
      ],
      "metadata": {
        "colab": {
          "base_uri": "https://localhost:8080/"
        },
        "id": "ZMIWYNfrTRpL",
        "outputId": "f9ced4ef-9325-426e-9bf3-efd5d0f223e7"
      },
      "execution_count": 20,
      "outputs": [
        {
          "output_type": "stream",
          "name": "stdout",
          "text": [
            "[[1 2 3]\n",
            " [4 5 6]\n",
            " [7 8 9]]\n",
            "\n",
            "[[1 2 3]\n",
            " [4 5 6]\n",
            " [7 8 9]]\n",
            "\n",
            "[[ 30  36  42]\n",
            " [ 66  81  96]\n",
            " [102 126 150]]\n",
            "\n",
            "[[ 30  36  42]\n",
            " [ 66  81  96]\n",
            " [102 126 150]]\n"
          ]
        }
      ]
    }
  ]
}