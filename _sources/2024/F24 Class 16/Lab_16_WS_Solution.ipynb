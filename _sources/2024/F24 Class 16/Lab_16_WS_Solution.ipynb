{
  "nbformat": 4,
  "nbformat_minor": 0,
  "metadata": {
    "colab": {
      "provenance": []
    },
    "kernelspec": {
      "name": "python3",
      "display_name": "Python 3"
    },
    "language_info": {
      "name": "python"
    }
  },
  "cells": [
    {
      "cell_type": "markdown",
      "source": [
        "Lab 16 WS.  Write your own code. Do not use generative AI. Remember that your quizzes and exam will all be on paper!"
      ],
      "metadata": {
        "id": "NADbWpRyULWR"
      }
    },
    {
      "cell_type": "markdown",
      "source": [
        "Write a program that calls a function to prompt the user for the radius of a cylinder base and the height of the cylinder, and then calls a function to calculate the volume and surface area of the hollow cylinder and another function to print the results in a nice sentence format.  "
      ],
      "metadata": {
        "id": "y0yU0SS3UP-q"
      }
    },
    {
      "cell_type": "code",
      "source": [
        "# Problem 1\n",
        "\n",
        "def getradht():\n",
        "    rad = float(input(\"Enter the radius of the cylinder base: \"))\n",
        "    while rad <= 0:\n",
        "        print(\"Radius must be greater than zero.\")\n",
        "        rad = float(input(\"Enter the radius of the cylinder base: \"))\n",
        "    ht = float(input(\"Enter the height of the cylinder: \"))\n",
        "    while ht <= 0:\n",
        "        print(\"Height must be greater than zero.\")\n",
        "        ht = float(input(\"Enter the height of the cylinder: \"))\n",
        "    return rad, ht\n",
        "\n",
        "def volsurf(rad, ht):\n",
        "    from math import pi\n",
        "    vol = pi * rad**2 * ht\n",
        "    surf = 2 * pi * rad * ht\n",
        "    return vol, surf\n",
        "\n",
        "def printresults(vol, surf):\n",
        "    print(f\"The volume of the cylinder is {vol:.2f} units cubed.\")\n",
        "    print(f\"The surface area of the cylinder is {surf:.2f} square units.\")\n",
        "\n",
        "#main program\n",
        "rad, ht = getradht()\n",
        "vol, surf = volsurf(rad, ht)\n",
        "printresults(vol, surf)\n",
        "\n"
      ],
      "metadata": {
        "colab": {
          "base_uri": "https://localhost:8080/"
        },
        "id": "X5_ZogVFYbTi",
        "outputId": "f77adacf-9ba9-4a8f-e33f-8be11eb43549"
      },
      "execution_count": 2,
      "outputs": [
        {
          "output_type": "stream",
          "name": "stdout",
          "text": [
            "Enter the radius of the cylinder base: 6\n",
            "Enter the height of the cylinder: 3\n",
            "The volume of the cylinder is 339.29 units cubed.\n",
            "The surface area of the cylinder is 113.10 square units.\n"
          ]
        }
      ]
    },
    {
      "cell_type": "markdown",
      "source": [
        "Write a menu-driven program that will generate two random integers. Then, it will display a menu and ask whether the user would like to add, subtract, multiply, or divide the two numbers. The first function will generate and return the 2 numbers. The second function will print the menu and return the user's choice. The third function will compute the user's choice and return the result. The last function will display the result."
      ],
      "metadata": {
        "id": "di3pU5HCZZW-"
      }
    },
    {
      "cell_type": "code",
      "source": [
        "# Problem 2\n",
        "\n",
        "from random import randint\n",
        "\n",
        "def randnums():\n",
        "    \"\"\" Returns two random integers\"\"\"\n",
        "    num1 = randint(1, 100)\n",
        "    num2 = randint(1, 100)\n",
        "    return num1, num2\n",
        "\n",
        "def printmenu():\n",
        "    \"\"\" Prints the menu and returns the user's choice\"\"\"\n",
        "    print(\"Menu\")\n",
        "    print(\"1. Add\")\n",
        "    print(\"2. Subtract\")\n",
        "    print(\"3. Multiply\")\n",
        "    print(\"4. Divide\")\n",
        "    choice = int(input(\"Enter your choice (1-4): \"))\n",
        "    while choice < 1 or choice > 4:\n",
        "        print(\"Invalid choice. Please enter a number between 1 and 4.\")\n",
        "        choice = int(input(\"Enter your choice (1-4): \"))\n",
        "    return choice\n",
        "\n",
        "def compute(x,y, choice):\n",
        "    \"\"\" Returns the user's chosen computation\"\"\"\n",
        "    if choice == 1:\n",
        "        return x + y\n",
        "    elif choice == 2:\n",
        "        return x - y\n",
        "    elif choice == 3:\n",
        "        return x * y\n",
        "    elif choice == 4:\n",
        "        return x / y\n",
        "\n",
        "def printresult(result):\n",
        "    \"\"\" Prints the result\"\"\"\n",
        "    print(f\"The result is {result}.\")\n",
        "\n",
        "#main program\n",
        "num1, num2 = randnums()\n",
        "choice = printmenu()\n",
        "result = compute(num1, num2, choice)\n",
        "printresult(result)\n"
      ],
      "metadata": {
        "colab": {
          "base_uri": "https://localhost:8080/"
        },
        "id": "NO2ufa6bbDq7",
        "outputId": "4ed341f9-6aa3-4205-96b9-1ee8dfdd2214"
      },
      "execution_count": 5,
      "outputs": [
        {
          "output_type": "stream",
          "name": "stdout",
          "text": [
            "Menu\n",
            "1. Add\n",
            "2. Subtract\n",
            "3. Multiply\n",
            "4. Divide\n",
            "Enter your choice (1-4): 6\n",
            "Invalid choice. Please enter a number between 1 and 4.\n",
            "Enter your choice (1-4): 2\n",
            "The result is -34.\n"
          ]
        }
      ]
    },
    {
      "cell_type": "markdown",
      "source": [
        "Now let's modify the previous program. The menu will now have an \"Exit\" option, and the program will loop to compute operations until the user chooses Exit. The main program will call the function to return two random integers, as before, but then it will call another function that will loop to call the other functions until the user chooses Exit."
      ],
      "metadata": {
        "id": "zisUHqkEZtDq"
      }
    },
    {
      "cell_type": "code",
      "source": [
        "# Problem 3\n",
        "\n",
        "from random import randint\n",
        "\n",
        "def randnums():\n",
        "    \"\"\" Returns two random integers\"\"\"\n",
        "    num1 = randint(1, 100)\n",
        "    num2 = randint(1, 100)\n",
        "    return num1, num2\n",
        "\n",
        "def printmenu():\n",
        "    \"\"\" Prints the menu and returns the user's choice\"\"\"\n",
        "\n",
        "    print(\"Menu\")\n",
        "    print(\"1. Add\")\n",
        "    print(\"2. Subtract\")\n",
        "    print(\"3. Multiply\")\n",
        "    print(\"4. Divide\")\n",
        "    print(\"5. Exit\")\n",
        "\n",
        "    choice = int(input(\"Enter your choice (1-5): \"))\n",
        "    while choice < 1 or choice > 5:\n",
        "        print(\"Invalid choice. Please enter a number between 1 and 5.\")\n",
        "\n",
        "        choice = int(input(\"Enter your choice (1-5): \"))\n",
        "    return choice\n",
        "\n",
        "def compute(x,y, choice):\n",
        "    \"\"\" Returns the user's chosen computation\"\"\"\n",
        "    if choice == 1:\n",
        "        return x + y\n",
        "    elif choice == 2:\n",
        "        return x - y\n",
        "    elif choice == 3:\n",
        "        return x * y\n",
        "    elif choice == 4:\n",
        "        return x / y\n",
        "\n",
        "def printresult(result):\n",
        "    \"\"\" Prints the result\"\"\"\n",
        "    print(f\"The result is {result}.\")\n",
        "\n",
        "def repeat(num1, num2):\n",
        "    \"\"\" Loops to compute operations until the user chooses Exit\"\"\"\n",
        "    choice = printmenu()\n",
        "    while choice != 5:\n",
        "        result = compute(num1, num2, choice)\n",
        "        printresult(result)\n",
        "        choice = printmenu()\n",
        "    print(\"Goodbye!\")\n",
        "\n",
        "# main program\n",
        "num1, num2 = randnums()\n",
        "repeat(num1, num2)\n",
        "\n",
        "\n"
      ],
      "metadata": {
        "colab": {
          "base_uri": "https://localhost:8080/"
        },
        "id": "J6z56eouacZh",
        "outputId": "8149f380-c293-4708-9bcd-822364340ba2"
      },
      "execution_count": 6,
      "outputs": [
        {
          "output_type": "stream",
          "name": "stdout",
          "text": [
            "Menu\n",
            "1. Add\n",
            "2. Subtract\n",
            "3. Multiply\n",
            "4. Divide\n",
            "5. Exit\n",
            "Enter your choice (1-5): 7\n",
            "Invalid choice. Please enter a number between 1 and 5.\n",
            "Enter your choice (1-5): 1\n",
            "The result is 117.\n",
            "Menu\n",
            "1. Add\n",
            "2. Subtract\n",
            "3. Multiply\n",
            "4. Divide\n",
            "5. Exit\n",
            "Enter your choice (1-5): 4\n",
            "The result is 1.1666666666666667.\n",
            "Menu\n",
            "1. Add\n",
            "2. Subtract\n",
            "3. Multiply\n",
            "4. Divide\n",
            "5. Exit\n",
            "Enter your choice (1-5): 3\n",
            "The result is 3402.\n",
            "Menu\n",
            "1. Add\n",
            "2. Subtract\n",
            "3. Multiply\n",
            "4. Divide\n",
            "5. Exit\n",
            "Enter your choice (1-5): 2\n",
            "The result is 9.\n",
            "Menu\n",
            "1. Add\n",
            "2. Subtract\n",
            "3. Multiply\n",
            "4. Divide\n",
            "5. Exit\n",
            "Enter your choice (1-5): 4\n",
            "The result is 1.1666666666666667.\n",
            "Menu\n",
            "1. Add\n",
            "2. Subtract\n",
            "3. Multiply\n",
            "4. Divide\n",
            "5. Exit\n",
            "Enter your choice (1-5): 5\n",
            "Goodbye!\n"
          ]
        }
      ]
    },
    {
      "cell_type": "markdown",
      "source": [
        "The following program is to call functions to prompt the user for the radius of a circle, calculate and return the perimeter P of the circle\n",
        "( P = 2 Π r), and print the result. For now, the main program has been written and function stubs have been written for all of the functions. Execute it to make sure it runs properly."
      ],
      "metadata": {
        "id": "1sNO2139em-k"
      }
    },
    {
      "cell_type": "code",
      "source": [
        "# Problem 4a\n",
        "\n",
        "def getr():\n",
        "    \"\"\" Prompts the user for the radius of a circle and returns it\"\"\"\n",
        "    return 33\n",
        "\n",
        "def calcP(r):\n",
        "    \"\"\" Calculates and returns the perimeter of a circle\"\"\"\n",
        "    return r + 2\n",
        "\n",
        "def printresult(P):\n",
        "    \"\"\" Prints the result\"\"\"\n",
        "    print(P)\n",
        "\n",
        "#main program\n",
        "r = getr()\n",
        "P = calcP(r)\n",
        "printresult(P)"
      ],
      "metadata": {
        "colab": {
          "base_uri": "https://localhost:8080/"
        },
        "id": "I9PXQcLJfCZ0",
        "outputId": "1baa8b87-8f11-4e1c-c1f1-ffdbc4e3f73a"
      },
      "execution_count": 7,
      "outputs": [
        {
          "output_type": "stream",
          "name": "stdout",
          "text": [
            "35\n"
          ]
        }
      ]
    },
    {
      "cell_type": "markdown",
      "source": [
        "Now, fill in the actual functions one at a time. The getr function should error-check the user's input, and the printresults function should print in a nice sentence format."
      ],
      "metadata": {
        "id": "VsnJ_R5Sgr9m"
      }
    },
    {
      "cell_type": "code",
      "source": [
        "# Problem 4b\n",
        "\n",
        "def getr():\n",
        "    \"\"\" Prompts the user for the radius of a circle and returns it\"\"\"\n",
        "    r = float(input(\"Enter the radius of the circle: \"))\n",
        "    while r <= 0:\n",
        "        print(\"Radius must be greater than zero.\")\n",
        "        r = float(input(\"Enter the radius of the circle: \"))\n",
        "    return r\n",
        "\n",
        "def calcP(r):\n",
        "    \"\"\" Calculates and returns the perimeter of a circle\"\"\"\n",
        "    from math import pi\n",
        "    return 2 * pi * r\n",
        "\n",
        "def printresult(p):\n",
        "    \"\"\" Prints the result\"\"\"\n",
        "    print(f'The perimeter of the circle is {p:.2f} units.')\n",
        "\n",
        "#main program\n",
        "r = getr()\n",
        "p = calcP(r)\n",
        "printresult(p)"
      ],
      "metadata": {
        "colab": {
          "base_uri": "https://localhost:8080/"
        },
        "id": "bb5Ld7mEg1TR",
        "outputId": "9241f863-d86b-4e14-e396-10898633decb"
      },
      "execution_count": 8,
      "outputs": [
        {
          "output_type": "stream",
          "name": "stdout",
          "text": [
            "Enter the radius of the circle: 3.3\n",
            "The perimeter of the circle is 20.73 units.\n"
          ]
        }
      ]
    }
  ]
}