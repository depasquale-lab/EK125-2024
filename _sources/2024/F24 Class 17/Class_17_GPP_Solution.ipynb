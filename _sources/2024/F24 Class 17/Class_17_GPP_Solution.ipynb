{
  "nbformat": 4,
  "nbformat_minor": 0,
  "metadata": {
    "colab": {
      "provenance": []
    },
    "kernelspec": {
      "name": "python3",
      "display_name": "Python 3"
    },
    "language_info": {
      "name": "python"
    }
  },
  "cells": [
    {
      "cell_type": "markdown",
      "source": [
        "Class 17 Group Practice Problems\n",
        "\n",
        "These will not be handed in, but please take them seriously and do not use generative AI. Please work in your group of three. Don't hesitate to ask for help if you need it. Your instructor and TA's will be circulating. Flag us down!"
      ],
      "metadata": {
        "id": "g8XdXrENLxMH"
      }
    },
    {
      "cell_type": "markdown",
      "source": [
        "Name:\n",
        "\n",
        "Partners:"
      ],
      "metadata": {
        "id": "xPGFFxb5MFIq"
      }
    },
    {
      "cell_type": "markdown",
      "source": [
        "Today we continue with string/text processing, and will be practicing many new string methods."
      ],
      "metadata": {
        "id": "saM6cQc-MIPX"
      }
    },
    {
      "cell_type": "markdown",
      "source": [
        "Let's start with the case conversion methods. Create a long sentence in a string. Print the result of using the **capitalize**, **title**, and **swapcase** methods with your string. Do not change the original variable."
      ],
      "metadata": {
        "id": "qnYu3asGNsW1"
      }
    },
    {
      "cell_type": "code",
      "source": [
        "# 1\n",
        "\n",
        "mysentence = \"This should be fun!\"\n",
        "\n",
        "print(mysentence.capitalize())\n",
        "print(mysentence.title())\n",
        "print(mysentence.swapcase())"
      ],
      "metadata": {
        "colab": {
          "base_uri": "https://localhost:8080/"
        },
        "id": "FBRDadyvOBnv",
        "outputId": "d2113a2f-8d19-410b-8076-ce1b37daa6cb"
      },
      "execution_count": 1,
      "outputs": [
        {
          "output_type": "stream",
          "name": "stdout",
          "text": [
            "This should be fun!\n",
            "This Should Be Fun!\n",
            "tHIS SHOULD BE FUN!\n"
          ]
        }
      ]
    },
    {
      "cell_type": "markdown",
      "source": [
        "Since strings are immutable, none of these methods change the string. In order to change the string variable, you have to assign the expression to the same variable name. This time, create a sentence in a string, call the **title** method, and store the result back in your original string variable (so, you are not exactly changing the string variable, but assigning a new value to it)."
      ],
      "metadata": {
        "id": "aEiKvS6OOjj9"
      }
    },
    {
      "cell_type": "code",
      "source": [
        "# 2\n",
        "\n",
        "mysentence = \"This should be fun!\"\n",
        "mysentence = mysentence.title()\n",
        "print(mysentence)"
      ],
      "metadata": {
        "colab": {
          "base_uri": "https://localhost:8080/"
        },
        "id": "bpv5xsiDPB_N",
        "outputId": "27989d57-ef45-4a00-8098-7dd48ca80eb8"
      },
      "execution_count": 2,
      "outputs": [
        {
          "output_type": "stream",
          "name": "stdout",
          "text": [
            "This Should Be Fun!\n"
          ]
        }
      ]
    },
    {
      "cell_type": "markdown",
      "source": [
        "Now let's explore the spacing methods. Create a string that includes a lot of blank spaces, in the beginning, after the last word, and in between words. Try the **strip**, **lstrip**, and **rstrip** methods and do not change the original variable. Use the **repr** function in **print**, so you can see the quotes (and where the string begins and ends)."
      ],
      "metadata": {
        "id": "OYMWmbxYRVlx"
      }
    },
    {
      "cell_type": "code",
      "execution_count": 5,
      "metadata": {
        "colab": {
          "base_uri": "https://localhost:8080/"
        },
        "id": "rpz7BbHnLvyJ",
        "outputId": "74afc572-0296-4e19-e82f-3dcaccb64907"
      },
      "outputs": [
        {
          "output_type": "stream",
          "name": "stdout",
          "text": [
            "'This   should be  fun!'\n",
            "'This   should be  fun!     '\n",
            "'     This   should be  fun!'\n"
          ]
        }
      ],
      "source": [
        "# 3\n",
        "\n",
        "mysentence = \"     This   should be  fun!     \"\n",
        "print(repr(mysentence.strip()))\n",
        "print(repr(mysentence.lstrip()))\n",
        "print(repr(mysentence.rstrip()))"
      ]
    },
    {
      "cell_type": "markdown",
      "source": [
        "By default, these methods strip blank spaces. By passing a string to any of these methods, any character in that string will be stripped instead of spaces. Use this to remove the x's, y'x, and z's using **strip**, **lstrip**, and **rstrip**. Fill in the rest of the code."
      ],
      "metadata": {
        "id": "hM6qK_ktUhBT"
      }
    },
    {
      "cell_type": "code",
      "source": [
        "# 4\n",
        "\n",
        "mysentence = \"xyzxxThis   should be  fun!abcxyz\"\n",
        "\n",
        "# You fill in the rest\n",
        "\n",
        "print(repr(mysentence.strip(\"xyz\")))\n",
        "print(repr(mysentence.lstrip(\"xyz\")))\n",
        "print(repr(mysentence.rstrip(\"xyz\")))"
      ],
      "metadata": {
        "colab": {
          "base_uri": "https://localhost:8080/"
        },
        "id": "uNO81trbUvbd",
        "outputId": "4f4cc194-cbfe-4e08-c60a-aeae9e7cd97d"
      },
      "execution_count": 7,
      "outputs": [
        {
          "output_type": "stream",
          "name": "stdout",
          "text": [
            "'This   should be  fun!abc'\n",
            "'This   should be  fun!abcxyz'\n",
            "'xyzxxThis   should be  fun!abc'\n"
          ]
        }
      ]
    },
    {
      "cell_type": "markdown",
      "source": [
        "There are several methods that will pad strings with blanks (or specified characters) in order to center, left justify, or right justify within a specified width (**center**, **ljust**, **rjust**). Prompt the user for their name. Center the name within a width of 10. Center the name within a width of 11. Left justify the name in a width of 8. Right justify in a width of 7. Use the default fill character, and make sure that you can see the quotes."
      ],
      "metadata": {
        "id": "V5mOht0hSmAw"
      }
    },
    {
      "cell_type": "code",
      "source": [
        "# 5\n",
        "\n",
        "myname = input(\"Please enter your name: \")\n",
        "\n",
        "print(repr(myname.center(10)))\n",
        "print(repr(myname.center(11)))\n",
        "print(repr(myname.ljust(8)))\n",
        "print(repr(myname.rjust(7)))"
      ],
      "metadata": {
        "colab": {
          "base_uri": "https://localhost:8080/"
        },
        "id": "m7lm6LBpWJH8",
        "outputId": "3b62213f-3d9a-4b7b-e182-618377d33cde"
      },
      "execution_count": 10,
      "outputs": [
        {
          "output_type": "stream",
          "name": "stdout",
          "text": [
            "Please enter your name: Annie\n",
            "'  Annie   '\n",
            "'   Annie   '\n",
            "'Annie   '\n",
            "'  Annie'\n"
          ]
        }
      ]
    },
    {
      "cell_type": "markdown",
      "source": [
        "Specify a fill character of '-' by just passing it as a second argument to any of the justification methods."
      ],
      "metadata": {
        "id": "3w0ujENCXQgc"
      }
    },
    {
      "cell_type": "code",
      "source": [
        "# 6\n",
        "\n",
        "myname = input(\"Please enter your name: \")\n",
        "\n",
        "print(repr(myname.center(10, \"-\")))"
      ],
      "metadata": {
        "colab": {
          "base_uri": "https://localhost:8080/"
        },
        "id": "cqYfV28rYHV6",
        "outputId": "59fd4d3a-5d01-4363-be40-547b5a5da766"
      },
      "execution_count": 11,
      "outputs": [
        {
          "output_type": "stream",
          "name": "stdout",
          "text": [
            "Please enter your name: Joe\n",
            "'---Joe----'\n"
          ]
        }
      ]
    },
    {
      "cell_type": "markdown",
      "source": [
        "Use the **zfill** method to pad a string that contains a number with leading 0's. The width is passed to the method."
      ],
      "metadata": {
        "id": "5vuo7zYeYSFa"
      }
    },
    {
      "cell_type": "code",
      "source": [
        "# 7\n",
        "\n",
        "mynumber = input(\"Please enter a number: \")\n",
        "\n",
        "print(repr(mynumber.zfill(15)))"
      ],
      "metadata": {
        "colab": {
          "base_uri": "https://localhost:8080/"
        },
        "id": "74emgG2vYdPy",
        "outputId": "6f3218fa-523f-4433-b9ee-bc7f34cef99e"
      },
      "execution_count": 13,
      "outputs": [
        {
          "output_type": "stream",
          "name": "stdout",
          "text": [
            "Please enter a number: 123456\n",
            "'000000000123456'\n"
          ]
        }
      ]
    },
    {
      "cell_type": "markdown",
      "source": [
        "What happens if the width that you specify is less than the number of digits in the number? Try it."
      ],
      "metadata": {
        "id": "-r28doruYqGG"
      }
    },
    {
      "cell_type": "code",
      "source": [
        "# 8\n",
        "\n",
        "mynumber = input(\"Please enter a number: \")\n",
        "\n",
        "print(repr(mynumber.zfill(2)))"
      ],
      "metadata": {
        "colab": {
          "base_uri": "https://localhost:8080/"
        },
        "id": "CuCQi62UYxYY",
        "outputId": "27460f8f-0f91-47fe-85b6-35f50544834b"
      },
      "execution_count": 14,
      "outputs": [
        {
          "output_type": "stream",
          "name": "stdout",
          "text": [
            "Please enter a number: 1234\n",
            "'1234'\n"
          ]
        }
      ]
    },
    {
      "cell_type": "markdown",
      "source": [
        "The **join** method concatenates together all of the strings in an iterable. The way it is called looks a little funky; it is called using a string that is the separator between the strings in the iterable, and the iterable is passed to the method. Execute the following example."
      ],
      "metadata": {
        "id": "erW8QW4pZ29X"
      }
    },
    {
      "cell_type": "code",
      "source": [
        "# 9\n",
        "\n",
        "strtup = (\"Monty\", \"Python\", \"is\", \"awesome\")\n",
        "result = ' '.join(strtup)\n",
        "result"
      ],
      "metadata": {
        "colab": {
          "base_uri": "https://localhost:8080/",
          "height": 35
        },
        "id": "0HUctRQPabSb",
        "outputId": "d994d613-142a-43b9-db99-423e380bb2b2"
      },
      "execution_count": 17,
      "outputs": [
        {
          "output_type": "execute_result",
          "data": {
            "text/plain": [
              "'Monty Python is awesome'"
            ],
            "application/vnd.google.colaboratory.intrinsic+json": {
              "type": "string"
            }
          },
          "metadata": {},
          "execution_count": 17
        }
      ]
    },
    {
      "cell_type": "markdown",
      "source": [
        "Modify that code so that the separator is a dash ('-')."
      ],
      "metadata": {
        "id": "Lh_4GExwY6PT"
      }
    },
    {
      "cell_type": "code",
      "source": [
        "# 10\n",
        "\n",
        "strtup = (\"Monty\", \"Python\", \"is\", \"awesome\")\n",
        "result = '-'.join(strtup)\n",
        "result"
      ],
      "metadata": {
        "colab": {
          "base_uri": "https://localhost:8080/",
          "height": 35
        },
        "id": "taFpRNYPbMMM",
        "outputId": "42a0c2b5-b58e-4853-b69f-095c409691d2"
      },
      "execution_count": 18,
      "outputs": [
        {
          "output_type": "execute_result",
          "data": {
            "text/plain": [
              "'Monty-Python-is-awesome'"
            ],
            "application/vnd.google.colaboratory.intrinsic+json": {
              "type": "string"
            }
          },
          "metadata": {},
          "execution_count": 18
        }
      ]
    },
    {
      "cell_type": "markdown",
      "source": [
        "There are methods that will split strings into separate pieces. The **split** method by default splits using a space as the delimiter and returns a list. Create a sentence variable and split it into a list of words."
      ],
      "metadata": {
        "id": "WZ96pm_cbQWV"
      }
    },
    {
      "cell_type": "code",
      "source": [
        "# 11\n",
        "\n",
        "mysentence = \"This should be fun!\"\n",
        "mysentence.split()"
      ],
      "metadata": {
        "colab": {
          "base_uri": "https://localhost:8080/"
        },
        "id": "QPAP9tBpcKP4",
        "outputId": "790ca202-c9d6-40fc-8a0b-a1b377261486"
      },
      "execution_count": 20,
      "outputs": [
        {
          "output_type": "execute_result",
          "data": {
            "text/plain": [
              "['This', 'should', 'be', 'fun!']"
            ]
          },
          "metadata": {},
          "execution_count": 20
        }
      ]
    },
    {
      "cell_type": "markdown",
      "source": [
        "Specify a different delimiter by passing it to the method. Make sure that your delimiter is what separates the words!"
      ],
      "metadata": {
        "id": "fduTG3I-cU8c"
      }
    },
    {
      "cell_type": "code",
      "source": [
        "# 12\n",
        "\n",
        "mysentence = \"This-should-be-fun!\"\n",
        "mysentence.split(\"-\")"
      ],
      "metadata": {
        "colab": {
          "base_uri": "https://localhost:8080/"
        },
        "id": "GLv-XxmXcp0k",
        "outputId": "2d0cbad2-bbc7-4fa7-f0db-663fe5e3d4a6"
      },
      "execution_count": 21,
      "outputs": [
        {
          "output_type": "execute_result",
          "data": {
            "text/plain": [
              "['This', 'should', 'be', 'fun!']"
            ]
          },
          "metadata": {},
          "execution_count": 21
        }
      ]
    },
    {
      "cell_type": "markdown",
      "source": [
        "If the delimiter is not a space, it is assumed that consecutive delimiters in the string are there to represent empty strings. Execute the following:"
      ],
      "metadata": {
        "id": "IrUFXBvkcyv7"
      }
    },
    {
      "cell_type": "code",
      "source": [
        "# 13\n",
        "\n",
        "mysentence = \"This-should---be--fun!\"\n",
        "mysentence.split(\"-\")"
      ],
      "metadata": {
        "colab": {
          "base_uri": "https://localhost:8080/"
        },
        "id": "4lHMSx7zdBVZ",
        "outputId": "d2a39fa4-ce8b-4fed-84b6-1e6b27575e09"
      },
      "execution_count": 22,
      "outputs": [
        {
          "output_type": "execute_result",
          "data": {
            "text/plain": [
              "['This', 'should', '', '', 'be', '', 'fun!']"
            ]
          },
          "metadata": {},
          "execution_count": 22
        }
      ]
    },
    {
      "cell_type": "markdown",
      "source": [
        "By default all possible splits are done, regardless of the delimiter. The **maxsplit** argument can be used by passing maxsplit=n where n is a positive integer to the method, to make only up to n splits.  Create your own code to test this."
      ],
      "metadata": {
        "id": "qL6dpuRPdQvk"
      }
    },
    {
      "cell_type": "code",
      "source": [
        "# 14\n",
        "\n",
        "mysentence = \"Monty Python is awesome!\"\n",
        "mysentence.split(maxsplit=2)"
      ],
      "metadata": {
        "colab": {
          "base_uri": "https://localhost:8080/"
        },
        "id": "L8HrodZzdx1V",
        "outputId": "5ea81efb-64f3-421a-bcbd-dbb2e5a9ce22"
      },
      "execution_count": 25,
      "outputs": [
        {
          "output_type": "execute_result",
          "data": {
            "text/plain": [
              "['Monty', 'Python', 'is awesome!']"
            ]
          },
          "metadata": {},
          "execution_count": 25
        }
      ]
    },
    {
      "cell_type": "markdown",
      "source": [
        "The **rsplit** method works just like split except it splits from the right, not from the left. When would this matter? Fill in your answer here:  \n",
        "\n",
        "Matters only if **maxsplit** is specified (and it's smaller than the number of possible splits)."
      ],
      "metadata": {
        "id": "BHMwUKAOd_Da"
      }
    },
    {
      "cell_type": "markdown",
      "source": [
        "The **splitlines** method splits lines in a string, using \\n as the delimiter, and returns a list of strings. Write code to try this."
      ],
      "metadata": {
        "id": "npBiwhJmedti"
      }
    },
    {
      "cell_type": "code",
      "source": [
        "# 15\n",
        "\n",
        "mysentences = \"Hi there.\\nHow is it going?\\nLet's go!\"\n",
        "sentlist = mysentences.splitlines()\n",
        "sentlist"
      ],
      "metadata": {
        "colab": {
          "base_uri": "https://localhost:8080/"
        },
        "id": "78BKbvpRe6_s",
        "outputId": "1169e34e-6488-4c78-b440-a48e54cac767"
      },
      "execution_count": 26,
      "outputs": [
        {
          "output_type": "execute_result",
          "data": {
            "text/plain": [
              "['Hi there.', 'How is it going?', \"Let's go!\"]"
            ]
          },
          "metadata": {},
          "execution_count": 26
        }
      ]
    },
    {
      "cell_type": "markdown",
      "source": [
        "There are two methods that break strings into 3 pieces and return a tuple: **partition** and **rpartition**. You pass a separator, and **partition** splits the string at the first occurrence of the separator and returns the string to the left, the separator, and the string to the right. The **rpartition** method splits from the last occurrence of the separator. Create a string that stores a person's name (first, middle, and last). Use **partition** and/or **rpartition** to break the string into first, middle, and last names."
      ],
      "metadata": {
        "id": "lpih6I1_ffNa"
      }
    },
    {
      "cell_type": "code",
      "source": [
        "# 16\n",
        "\n",
        "urname = \"Xavier Q. Zimner\"\n",
        "first, blank, midlast = urname.partition(' ')\n",
        "middle, blank, last = midlast.partition(' ')\n",
        "print(first)\n",
        "print(middle)\n",
        "print(last)\n",
        "\n"
      ],
      "metadata": {
        "colab": {
          "base_uri": "https://localhost:8080/"
        },
        "id": "z95hT4cJgJZU",
        "outputId": "d16f55bd-73fb-42e5-e505-9ced182fedb1"
      },
      "execution_count": 28,
      "outputs": [
        {
          "output_type": "stream",
          "name": "stdout",
          "text": [
            "Xavier\n",
            "Q.\n",
            "Zimner\n"
          ]
        }
      ]
    },
    {
      "cell_type": "markdown",
      "source": [
        "There are methods that find substrings, and a method that does find and replace. We have seen the **index** method, which returns the index of the first occurrence of the beginning of a substring within a string. The problem with index is that if the substring is not found, an error message is thrown. The **find** method works just like index, but instead of throwing an error, it returns a flag of -1 if the substring is not found. Try the **find** method; test it with substrings that are and are not in the string."
      ],
      "metadata": {
        "id": "2MS5zrlf1ypz"
      }
    },
    {
      "cell_type": "code",
      "source": [
        "# 17\n",
        "\n",
        "mysent = \"Monty Python is awesome!\"\n",
        "print(mysent.find(\"Python\"))\n",
        "print(mysent.find(\"Java\"))"
      ],
      "metadata": {
        "colab": {
          "base_uri": "https://localhost:8080/"
        },
        "id": "glK1H89r4-nG",
        "outputId": "a4b3fc8c-4180-4a4a-8116-3c8d7e6a68ed"
      },
      "execution_count": 29,
      "outputs": [
        {
          "output_type": "stream",
          "name": "stdout",
          "text": [
            "6\n",
            "-1\n"
          ]
        }
      ]
    },
    {
      "cell_type": "markdown",
      "source": [
        "Similarly, **rindex** and **rfind** return the index of the last occurrence of the beginning of a string within a string. Try both methods."
      ],
      "metadata": {
        "id": "IA7HYC1V5V2a"
      }
    },
    {
      "cell_type": "code",
      "source": [
        "# 18\n",
        "\n",
        "mysent = \"Monty! Python! is awesome!\"\n",
        "print(mysent.rfind('!'))\n",
        "print(mysent.rindex('!'))\n",
        "\n",
        "print(mysent.rfind('x'))\n",
        "if 'x' in mysent:\n",
        "    print(mysent.rindex('x'))"
      ],
      "metadata": {
        "colab": {
          "base_uri": "https://localhost:8080/"
        },
        "id": "C2DoKFkJ74yq",
        "outputId": "79545ff7-f250-47b0-9d6e-ea13204c792a"
      },
      "execution_count": 33,
      "outputs": [
        {
          "output_type": "stream",
          "name": "stdout",
          "text": [
            "25\n",
            "25\n",
            "-1\n"
          ]
        }
      ]
    },
    {
      "cell_type": "markdown",
      "source": [
        "The **replace** methods finds occurrences of a substring within a string, and replaces them with another substring. By default, all are replaced, but a count can also be passed. Create a string that has commas as separators, and then replace all of the commas with blanks. Store the result in the original string variable."
      ],
      "metadata": {
        "id": "tEbygour8fxR"
      }
    },
    {
      "cell_type": "code",
      "source": [
        "# 19\n",
        "\n",
        "mysent = \"Monty, Python, is, awesome!\"\n",
        "mysent = mysent.replace(',', ' ')\n",
        "mysent"
      ],
      "metadata": {
        "colab": {
          "base_uri": "https://localhost:8080/",
          "height": 35
        },
        "id": "teIkY_1S87Aw",
        "outputId": "476460c3-d700-464b-88b5-d956b1096ac5"
      },
      "execution_count": 35,
      "outputs": [
        {
          "output_type": "execute_result",
          "data": {
            "text/plain": [
              "'Monty  Python  is  awesome!'"
            ],
            "application/vnd.google.colaboratory.intrinsic+json": {
              "type": "string"
            }
          },
          "metadata": {},
          "execution_count": 35
        }
      ]
    },
    {
      "cell_type": "markdown",
      "source": [
        "We have seen some Boolean \"is\" methods that work with strings. Others include **isalpha**, which returns True if all characters are letters of the alphabet, **isalnum**, which returns True if all characters are either alphabetic or numeric, and **isdigit**, which returns True if all characters are digits. Write code to test these methods."
      ],
      "metadata": {
        "id": "QYMcBSa39cFN"
      }
    },
    {
      "cell_type": "code",
      "source": [
        "# 20\n",
        "\n",
        "teststr = 'x111y332z15'\n",
        "print(teststr.isalpha(), teststr.isalnum(), teststr.isdigit())\n",
        "\n",
        "teststr = 'abracadabra'\n",
        "print(teststr.isalpha(), teststr.isalnum(), teststr.isdigit())\n",
        "\n",
        "teststr = '1234'\n",
        "print(teststr.isalpha(), teststr.isalnum(), teststr.isdigit())"
      ],
      "metadata": {
        "colab": {
          "base_uri": "https://localhost:8080/"
        },
        "id": "BSm9gtSN98-H",
        "outputId": "a56c9111-d7c1-4c30-a11c-b9c9a5d3fe80"
      },
      "execution_count": 37,
      "outputs": [
        {
          "output_type": "stream",
          "name": "stdout",
          "text": [
            "False True False\n",
            "True True False\n",
            "False True True\n"
          ]
        }
      ]
    },
    {
      "cell_type": "markdown",
      "source": [
        "There is a string module that contains some very useful string constants. Execute the following to see them."
      ],
      "metadata": {
        "id": "2DD4ZdEt-uBI"
      }
    },
    {
      "cell_type": "code",
      "source": [
        "# 21\n",
        "\n",
        "import string\n",
        "print(string.ascii_lowercase)\n",
        "print(string.ascii_uppercase)\n",
        "print(string.ascii_letters)\n",
        "print(string.digits)"
      ],
      "metadata": {
        "colab": {
          "base_uri": "https://localhost:8080/"
        },
        "id": "iOAd79dB_OPp",
        "outputId": "75956918-81e9-457b-fd86-b70e243e101c"
      },
      "execution_count": 39,
      "outputs": [
        {
          "output_type": "stream",
          "name": "stdout",
          "text": [
            "abcdefghijklmnopqrstuvwxyz\n",
            "ABCDEFGHIJKLMNOPQRSTUVWXYZ\n",
            "abcdefghijklmnopqrstuvwxyzABCDEFGHIJKLMNOPQRSTUVWXYZ\n",
            "0123456789\n"
          ]
        }
      ]
    },
    {
      "cell_type": "markdown",
      "source": [
        "Whew! That was a lot of methods. Now that you've played around with them, let's get to work!"
      ],
      "metadata": {
        "id": "AL13SnFq_him"
      }
    },
    {
      "cell_type": "markdown",
      "source": [
        "It turns out that the **title** method is a little funky. Execute the following code."
      ],
      "metadata": {
        "id": "Hcwq9JipA6qr"
      }
    },
    {
      "cell_type": "code",
      "source": [
        "# 22\n",
        "\n",
        "mysentence = \"Let's rock 'n roll!\"\n",
        "mysentence.title()"
      ],
      "metadata": {
        "colab": {
          "base_uri": "https://localhost:8080/",
          "height": 35
        },
        "id": "H1LKhSUfBHxK",
        "outputId": "0f61fade-2e93-4efe-e30e-75fb68bf5e61"
      },
      "execution_count": 40,
      "outputs": [
        {
          "output_type": "execute_result",
          "data": {
            "text/plain": [
              "\"Let'S Rock 'N Roll!\""
            ],
            "application/vnd.google.colaboratory.intrinsic+json": {
              "type": "string"
            }
          },
          "metadata": {},
          "execution_count": 40
        }
      ]
    },
    {
      "cell_type": "markdown",
      "source": [
        "I don't know about you, but if I had written the **title** method, it would not have capitalized the s in \"Let's\".  So, do all string methods treat \"Let's\" as two separate words? Execute the following code."
      ],
      "metadata": {
        "id": "VC6HgUUFBS7S"
      }
    },
    {
      "cell_type": "code",
      "source": [
        "# 23\n",
        "\n",
        "mysentence = \"Let's rock 'n roll!\"\n",
        "mysentence.split()"
      ],
      "metadata": {
        "colab": {
          "base_uri": "https://localhost:8080/"
        },
        "id": "IKTlzUAfB9Ba",
        "outputId": "06a85314-7d77-4ad6-95eb-be2fd2133689"
      },
      "execution_count": 41,
      "outputs": [
        {
          "output_type": "execute_result",
          "data": {
            "text/plain": [
              "[\"Let's\", 'rock', \"'n\", 'roll!']"
            ]
          },
          "metadata": {},
          "execution_count": 41
        }
      ]
    },
    {
      "cell_type": "markdown",
      "source": [
        "Yay. Thankfully, not. This is not a problem, because you can code!  Write a function that will receive a sentence, capitalize all of the words, and return the resulting string. For the above, it would return Let's Rock 'n Roll!"
      ],
      "metadata": {
        "id": "CGtn3TvUCJeg"
      }
    },
    {
      "cell_type": "code",
      "source": [
        "# 24\n",
        "\n",
        "def bettertitle(sentence):\n",
        "    \"\"\" Returns a better title! \"\"\"\n",
        "    sentlist = sentence.split()\n",
        "    newlist = []\n",
        "    for word in sentlist:\n",
        "        newlist.append(word.capitalize())\n",
        "    return ' '.join(newlist)\n",
        "\n",
        "mysentence = \"Let's rock 'n roll!\"\n",
        "bettertitle(mysentence)"
      ],
      "metadata": {
        "colab": {
          "base_uri": "https://localhost:8080/",
          "height": 35
        },
        "id": "WtqJHDTXCjMq",
        "outputId": "15cabb50-b83f-424d-c877-9c0dae70b5dd"
      },
      "execution_count": 42,
      "outputs": [
        {
          "output_type": "execute_result",
          "data": {
            "text/plain": [
              "\"Let's Rock 'n Roll!\""
            ],
            "application/vnd.google.colaboratory.intrinsic+json": {
              "type": "string"
            }
          },
          "metadata": {},
          "execution_count": 42
        }
      ]
    },
    {
      "cell_type": "markdown",
      "source": [
        "OK, so there's a **lstrip** method and a **rstrip** method but no midstrip method. YOU to the rescue!  Write a midstrip function that will receive a string and will strip extra blanks from the beginning, ending, and middle of the string and return the result."
      ],
      "metadata": {
        "id": "a9RS1bs5H297"
      }
    },
    {
      "cell_type": "code",
      "source": [
        "# 25\n",
        "\n",
        "def midstrip(sentwblanks):\n",
        "    \"\"\" Strips extra blanks from the middle of a string. \"\"\"\n",
        "    while sentwblanks.find('  ') != -1:\n",
        "        sentwblanks = sentwblanks.replace('  ', ' ')\n",
        "    news = sentwblanks.strip()\n",
        "    return news\n",
        "\n",
        "swb = \"   Hello   there  \"\n",
        "print(midstrip(swb))"
      ],
      "metadata": {
        "colab": {
          "base_uri": "https://localhost:8080/"
        },
        "id": "LJBKwyMaJ-6Z",
        "outputId": "98d7ee4e-de45-48b6-eb31-40674681b994"
      },
      "execution_count": 50,
      "outputs": [
        {
          "output_type": "stream",
          "name": "stdout",
          "text": [
            "Hello there\n"
          ]
        }
      ]
    },
    {
      "cell_type": "markdown",
      "source": [
        "Time to do your own thing!  Write some creative problems. Quiz each other. Post your best creative problems to the Creative GPP chat for Class 17."
      ],
      "metadata": {
        "id": "OZUXo3D7M42v"
      }
    }
  ]
}