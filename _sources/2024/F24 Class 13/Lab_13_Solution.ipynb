{
  "nbformat": 4,
  "nbformat_minor": 0,
  "metadata": {
    "colab": {
      "provenance": []
    },
    "kernelspec": {
      "name": "python3",
      "display_name": "Python 3"
    },
    "language_info": {
      "name": "python"
    }
  },
  "cells": [
    {
      "cell_type": "markdown",
      "source": [
        "Lab # 13"
      ],
      "metadata": {
        "id": "z0cvN_V2HJWu"
      }
    },
    {
      "cell_type": "markdown",
      "source": [
        "Problem 1: Create a list of numbers. Write code that will create a new list which is, for every element in the original list, that number plus its index. For example, [4, 8, 2] would become [4+0, 8+1, 2+2] or [4, 9, 4]. Do this 3 ways: using a list comprehension with **range**, using a list comprehension with **enumerate**, and using a **for** loop."
      ],
      "metadata": {
        "id": "vyhfStCHHL4W"
      }
    },
    {
      "cell_type": "code",
      "source": [
        "# 1\n",
        "numlist = [4, 8, 2]\n",
        "newlist = [numlist[i] + i for i in range(len(numlist))]\n",
        "print(newlist)\n",
        "\n",
        "newlist = [i + item for i, item in enumerate(numlist)]\n",
        "print(newlist)\n",
        "\n",
        "newlist = []\n",
        "for i in range(len(numlist)):\n",
        "    newlist.append(numlist[i] + i)\n",
        "print(newlist)"
      ],
      "metadata": {
        "colab": {
          "base_uri": "https://localhost:8080/"
        },
        "id": "epy3nAV0H4Yv",
        "outputId": "3ea83981-1c23-4d1b-9e03-c55995e7fa3f"
      },
      "execution_count": 1,
      "outputs": [
        {
          "output_type": "stream",
          "name": "stdout",
          "text": [
            "[4, 9, 4]\n",
            "[4, 9, 4]\n",
            "[4, 9, 4]\n"
          ]
        }
      ]
    },
    {
      "cell_type": "markdown",
      "source": [
        "Problem 2: Create a nested list of the integers from 1 to n and their squares. Generate n as a random integer from 5 to 8.  Do this 2 ways: using a list comprehension, and using a **for** loop."
      ],
      "metadata": {
        "id": "cJKCS9GYIrlw"
      }
    },
    {
      "cell_type": "code",
      "source": [
        "# 2\n",
        "import random\n",
        "n = random.randint(5, 8)\n",
        "\n",
        "newlist = [[i, i**2] for i in range(1, n+1)]\n",
        "print(newlist)\n",
        "\n",
        "newlist = []\n",
        "for i in range(1, n+1):\n",
        "    newlist.append([i, i**2])\n",
        "print(newlist)"
      ],
      "metadata": {
        "colab": {
          "base_uri": "https://localhost:8080/"
        },
        "id": "QbzkVzhhKdmK",
        "outputId": "fd9ae956-c28e-42ba-c1f0-73f056e9627d"
      },
      "execution_count": 3,
      "outputs": [
        {
          "output_type": "stream",
          "name": "stdout",
          "text": [
            "[[1, 1], [2, 4], [3, 9], [4, 16], [5, 25]]\n",
            "[[1, 1], [2, 4], [3, 9], [4, 16], [5, 25]]\n"
          ]
        }
      ]
    },
    {
      "cell_type": "markdown",
      "source": [
        "Problem 3: Create a list of numbers. From this, create a list of the squares of the numbers in the original list that are even. Do this 2 ways: using a list comprehension, and using a **for** loop."
      ],
      "metadata": {
        "id": "Z0NJVbhLKrzI"
      }
    },
    {
      "cell_type": "code",
      "source": [
        "# 3\n",
        "numlist = [3, 6, 1, 4, 99, 2]\n",
        "newlist = [i**2 for i in numlist if i % 2 == 0]\n",
        "print(newlist)\n",
        "\n",
        "newlist = []\n",
        "for i in numlist:\n",
        "    if i % 2 == 0:\n",
        "        newlist.append(i**2)\n",
        "print(newlist)"
      ],
      "metadata": {
        "colab": {
          "base_uri": "https://localhost:8080/"
        },
        "id": "kRPxMECiWXHf",
        "outputId": "6cb94ba9-05ed-4b81-9344-1eeb02d138a2"
      },
      "execution_count": 4,
      "outputs": [
        {
          "output_type": "stream",
          "name": "stdout",
          "text": [
            "[36, 16, 4]\n",
            "[36, 16, 4]\n"
          ]
        }
      ]
    },
    {
      "cell_type": "markdown",
      "source": [
        "Problem 4: In a list comprehension, you can have multiple for clauses. Create a list of x+y values, where x ranges from 1 to 3 and y ranges from 1 to 4, using a list comprehension."
      ],
      "metadata": {
        "id": "3tbrc7tuWnXZ"
      }
    },
    {
      "cell_type": "code",
      "source": [
        "# 4\n",
        "urlist = [x+y for x in range(1, 4) for y in range(1, 5)]\n",
        "print(urlist)"
      ],
      "metadata": {
        "colab": {
          "base_uri": "https://localhost:8080/"
        },
        "id": "7ntsWfvRXUhe",
        "outputId": "98a73617-f8cb-40df-e780-3cceee717587"
      },
      "execution_count": 5,
      "outputs": [
        {
          "output_type": "stream",
          "name": "stdout",
          "text": [
            "[2, 3, 4, 5, 3, 4, 5, 6, 4, 5, 6, 7]\n"
          ]
        }
      ]
    },
    {
      "cell_type": "markdown",
      "source": [
        "Problem 5: Modify the above to create a list of tuples (x,y) where x ranges from 1 to 3 and y ranges from 1 to 4, using a list comprehension."
      ],
      "metadata": {
        "id": "7lnIZ1hvXm_I"
      }
    },
    {
      "cell_type": "code",
      "source": [
        "# 5\n",
        "urlist = [(x, y) for x in range(1, 4) for y in range(1, 5)]\n",
        "print(urlist)"
      ],
      "metadata": {
        "colab": {
          "base_uri": "https://localhost:8080/"
        },
        "id": "g9yBVRJxXx7d",
        "outputId": "e380eafa-8083-4857-daeb-07fd05abed0a"
      },
      "execution_count": 6,
      "outputs": [
        {
          "output_type": "stream",
          "name": "stdout",
          "text": [
            "[(1, 1), (1, 2), (1, 3), (1, 4), (2, 1), (2, 2), (2, 3), (2, 4), (3, 1), (3, 2), (3, 3), (3, 4)]\n"
          ]
        }
      ]
    },
    {
      "cell_type": "markdown",
      "source": [
        "Problem 6: Flatten a nested list using a list comprehension. For example, [[1,2], [3,4]] would become [1,2,3,4]."
      ],
      "metadata": {
        "id": "xuJuLV8XX4-D"
      }
    },
    {
      "cell_type": "code",
      "source": [
        "# 6\n",
        "nestedlist = [[1, 2], [3, 4, 5], [9, 7]]\n",
        "flatlist = [item for sublist in nestedlist for item in sublist]\n",
        "print(flatlist)"
      ],
      "metadata": {
        "colab": {
          "base_uri": "https://localhost:8080/"
        },
        "id": "UE0tWEWeYG4q",
        "outputId": "374ce0f5-d2e6-476c-facb-1daf1c2d96dc"
      },
      "execution_count": 7,
      "outputs": [
        {
          "output_type": "stream",
          "name": "stdout",
          "text": [
            "[1, 2, 3, 4, 5, 9, 7]\n"
          ]
        }
      ]
    },
    {
      "cell_type": "markdown",
      "source": [
        "Problem 7: Create a list of numbers. From the original list, create a list of the running sums of the numbers. Do this 2 ways: using a list comprehension, and using a **for** loop."
      ],
      "metadata": {
        "id": "nKVdb5msYZNk"
      }
    },
    {
      "cell_type": "code",
      "source": [
        "# 7\n",
        "numlist = [3, 6, 1, 4, 99, 2]\n",
        "newlist = [sum(numlist[:i+1]) for i in range(len(numlist))]\n",
        "print(newlist)\n",
        "\n",
        "newlist = []\n",
        "for i in range(len(numlist)):\n",
        "    newlist.append(sum(numlist[:i+1]))\n",
        "print(newlist)"
      ],
      "metadata": {
        "colab": {
          "base_uri": "https://localhost:8080/"
        },
        "id": "wD9eaAL-Yp2f",
        "outputId": "e8eb572c-cfcf-41c4-b9e3-534b1104a440"
      },
      "execution_count": 9,
      "outputs": [
        {
          "output_type": "stream",
          "name": "stdout",
          "text": [
            "[3, 9, 10, 14, 113, 115]\n",
            "[3, 9, 10, 14, 113, 115]\n"
          ]
        }
      ]
    },
    {
      "cell_type": "markdown",
      "source": [
        "Problem 8: Create a list of numbers. Create a list of the indices for which the elements in the original list are > 5, using a list comprehension. Do this 2 ways: one with a list comprehension using **range**, and another with a list comprehension using **enumerate**."
      ],
      "metadata": {
        "id": "qnFaW0r1ZlKm"
      }
    },
    {
      "cell_type": "code",
      "source": [
        "# 8\n",
        "numlist = [3, 6, 1, 4, 99, 2]\n",
        "newlist = [i for i in range(len(numlist)) if numlist[i] > 5]\n",
        "print(newlist)\n",
        "\n",
        "newlist = [i for i, item in enumerate(numlist) if item > 5]\n",
        "print(newlist)"
      ],
      "metadata": {
        "colab": {
          "base_uri": "https://localhost:8080/"
        },
        "id": "DpumJBU7Z1hV",
        "outputId": "acc1582b-848a-4d35-da4a-3c2e95d3cc3e"
      },
      "execution_count": 11,
      "outputs": [
        {
          "output_type": "stream",
          "name": "stdout",
          "text": [
            "[1, 4]\n",
            "[1, 4]\n"
          ]
        }
      ]
    }
  ]
}