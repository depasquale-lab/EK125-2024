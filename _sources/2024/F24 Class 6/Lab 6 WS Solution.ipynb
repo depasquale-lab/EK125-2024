{
 "cells": [
  {
   "cell_type": "markdown",
   "id": "c6814933",
   "metadata": {},
   "source": [
    "Lab 6 Worksheet Solution\n",
    "\n",
    "Fill in your lab section:\n",
    "\n",
    "Name: "
   ]
  },
  {
   "cell_type": "markdown",
   "id": "8e5fe89e",
   "metadata": {},
   "source": [
    "Prompt the user for an integer n, and then print \"I love this stuff!\" n times (in a for loop, of course!)."
   ]
  },
  {
   "cell_type": "code",
   "execution_count": 1,
   "id": "2f3dbb7a",
   "metadata": {},
   "outputs": [
    {
     "name": "stdout",
     "output_type": "stream",
     "text": [
      "Enter an integer: 5\n",
      "I love this stuff!\n",
      "I love this stuff!\n",
      "I love this stuff!\n",
      "I love this stuff!\n",
      "I love this stuff!\n"
     ]
    }
   ],
   "source": [
    "# 1\n",
    "n = int(input('Enter an integer: '))\n",
    "for i in range(n):\n",
    "    print('I love this stuff!')"
   ]
  },
  {
   "cell_type": "markdown",
   "id": "1e7b26c0",
   "metadata": {},
   "source": [
    "Write a program that will generate a random integer n in the inclusive range from 2 to 5. Then, loop n times to prompt the user for a float number, and print the sum of the numbers entered so far with one decimal place."
   ]
  },
  {
   "cell_type": "code",
   "execution_count": 2,
   "id": "b7ff7648",
   "metadata": {},
   "outputs": [
    {
     "name": "stdout",
     "output_type": "stream",
     "text": [
      "Enter a float: 4.1\n",
      "The sum so far is 4.1.\n",
      "Enter a float: 3.3\n",
      "The sum so far is 7.4.\n",
      "Enter a float: 8.5\n",
      "The sum so far is 15.9.\n",
      "Enter a float: 6.3\n",
      "The sum so far is 22.2.\n"
     ]
    }
   ],
   "source": [
    "# 2\n",
    "\n",
    "from random import randint\n",
    "n = randint(2,5)\n",
    "mysum = 0\n",
    "for i in range(n):\n",
    "    numb = float(input('Enter a float: '))\n",
    "    mysum = mysum + numb\n",
    "    print(f'The sum so far is {mysum:.1f}.')\n",
    "    "
   ]
  },
  {
   "cell_type": "markdown",
   "id": "7cd586db",
   "metadata": {},
   "source": [
    "Write your own code to show the difference between using the iterator variable in the action of the loop and not using the iterator variable in the action of the loop."
   ]
  },
  {
   "cell_type": "code",
   "execution_count": 3,
   "id": "e8dcb9f8",
   "metadata": {},
   "outputs": [
    {
     "name": "stdout",
     "output_type": "stream",
     "text": [
      "!!\n",
      "!!\n",
      "!!\n",
      "!!\n",
      "!!\n",
      "\n",
      "4 *  0 is: 0\n",
      "4 *  1 is: 4\n",
      "4 *  2 is: 8\n",
      "4 *  3 is: 12\n",
      "4 *  4 is: 16\n"
     ]
    }
   ],
   "source": [
    "# 3\n",
    "\n",
    "# Not using\n",
    "\n",
    "for i in range(5):\n",
    "    print('!!')\n",
    "    \n",
    "print()\n",
    "\n",
    "# Using\n",
    "\n",
    "for i in range(5):\n",
    "    print('4 * ',i,'is:',4*i)\n",
    "    \n",
    "    "
   ]
  },
  {
   "cell_type": "markdown",
   "id": "17cbe795",
   "metadata": {},
   "source": [
    "Below is a list of strings. Using this list, fill in the actions of the for loops below to print each string in the list."
   ]
  },
  {
   "cell_type": "code",
   "execution_count": 4,
   "id": "e6c07a78",
   "metadata": {},
   "outputs": [
    {
     "name": "stdout",
     "output_type": "stream",
     "text": [
      "The string is:  hello\n",
      "The string is:  ciao\n",
      "The string is:  howdy\n",
      "The string is:  hi\n",
      "\n",
      "The string is:  hello\n",
      "The string is:  ciao\n",
      "The string is:  howdy\n",
      "The string is:  hi\n"
     ]
    }
   ],
   "source": [
    "# 4\n",
    "strlist = ['hello', 'ciao', 'howdy', 'hi']\n",
    "\n",
    "for onestr in strlist:\n",
    "    print('The string is: ',onestr)\n",
    "\n",
    "print()\n",
    "\n",
    "for i in range(len(strlist)):\n",
    "    print('The string is: ', strlist[i])\n"
   ]
  },
  {
   "cell_type": "markdown",
   "id": "68f44aa9",
   "metadata": {},
   "source": [
    "Now let's work on combining loops with selection (if, if-else) statements."
   ]
  },
  {
   "cell_type": "markdown",
   "id": "a94f3c55",
   "metadata": {},
   "source": [
    "Write code that will loop to generate 5 random integers, each in the range from 1 to 30. For each, print the integer and whether or not it was less than 15. "
   ]
  },
  {
   "cell_type": "code",
   "execution_count": 5,
   "id": "9e898ee7",
   "metadata": {},
   "outputs": [
    {
     "name": "stdout",
     "output_type": "stream",
     "text": [
      "25  is >= 15.\n",
      "6 is less than 15.\n",
      "5 is less than 15.\n",
      "26  is >= 15.\n",
      "29  is >= 15.\n"
     ]
    }
   ],
   "source": [
    "# 5\n",
    "\n",
    "from random import randint\n",
    "\n",
    "for i in range(5):\n",
    "    ranin = randint(1,30)\n",
    "    if ranin < 15:\n",
    "        print(ranin,'is less than 15.')\n",
    "    else:\n",
    "        print(ranin,' is >= 15.')\n",
    "        \n",
    "    "
   ]
  },
  {
   "cell_type": "markdown",
   "id": "aa79eca9",
   "metadata": {},
   "source": [
    "Let's add counter(s) to that. Count and print how many were less than 15."
   ]
  },
  {
   "cell_type": "code",
   "execution_count": 6,
   "id": "dbb801a6",
   "metadata": {},
   "outputs": [
    {
     "name": "stdout",
     "output_type": "stream",
     "text": [
      "7 is less than 15.\n",
      "2 is less than 15.\n",
      "16  is >= 15.\n",
      "16  is >= 15.\n",
      "30  is >= 15.\n",
      "\n",
      "In all, 2 were less than 15\n"
     ]
    }
   ],
   "source": [
    "# 6\n",
    "\n",
    "from random import randint\n",
    "countless = 0\n",
    "for i in range(5):\n",
    "    ranin = randint(1,30)\n",
    "    if ranin < 15:\n",
    "        print(ranin,'is less than 15.')\n",
    "        countless = countless + 1\n",
    "    else:\n",
    "        print(ranin,' is >= 15.')\n",
    "print('\\nIn all,',countless,'were less than 15')\n"
   ]
  },
  {
   "cell_type": "markdown",
   "id": "0bc9e2bd",
   "metadata": {},
   "source": [
    "Write a program that will choose a random character from the string 'xyz'. If the character is 'x', it will loop to print '!' 30 times in a row, but if the character is not 'x', it will just print 'Sad'."
   ]
  },
  {
   "cell_type": "code",
   "execution_count": 7,
   "id": "025f4f93",
   "metadata": {},
   "outputs": [
    {
     "name": "stdout",
     "output_type": "stream",
     "text": [
      "Sad\n"
     ]
    }
   ],
   "source": [
    "# 7\n",
    "\n",
    "from random import choice\n",
    "onech = choice('xyz')\n",
    "if onech == 'x':\n",
    "    for i in range(30):\n",
    "        print('!', end='')\n",
    "else:\n",
    "    print('Sad')"
   ]
  }
 ],
 "metadata": {
  "kernelspec": {
   "display_name": "Python 3 (ipykernel)",
   "language": "python",
   "name": "python3"
  },
  "language_info": {
   "codemirror_mode": {
    "name": "ipython",
    "version": 3
   },
   "file_extension": ".py",
   "mimetype": "text/x-python",
   "name": "python",
   "nbconvert_exporter": "python",
   "pygments_lexer": "ipython3",
   "version": "3.9.13"
  }
 },
 "nbformat": 4,
 "nbformat_minor": 5
}
