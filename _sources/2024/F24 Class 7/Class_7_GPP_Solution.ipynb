{
  "nbformat": 4,
  "nbformat_minor": 0,
  "metadata": {
    "colab": {
      "provenance": []
    },
    "kernelspec": {
      "name": "python3",
      "display_name": "Python 3"
    },
    "language_info": {
      "name": "python"
    }
  },
  "cells": [
    {
      "cell_type": "markdown",
      "source": [
        "Class 7 Group Practice Problems.  Today we are covering **while** loops, which repeat an action until the condition becomes False. Note that programming style is very important. \"while True\" loops are not acceptable for credit in this course."
      ],
      "metadata": {
        "id": "LK3HktqNc_Qv"
      }
    },
    {
      "cell_type": "markdown",
      "source": [
        "Name:\n",
        "\n",
        "Partners:"
      ],
      "metadata": {
        "id": "QgkknmA0d4lC"
      }
    },
    {
      "cell_type": "markdown",
      "source": [
        "Execute the following code to make sure that you understand how it works."
      ],
      "metadata": {
        "id": "PzNqGkI4eX5P"
      }
    },
    {
      "cell_type": "code",
      "source": [
        "# 1\n",
        "num = 3\n",
        "while num > 0:\n",
        "    print(num)\n",
        "    num = num - 1\n",
        "print(\"Blastoff!\")"
      ],
      "metadata": {
        "colab": {
          "base_uri": "https://localhost:8080/"
        },
        "id": "_UnZ2TcXfdlx",
        "outputId": "325fa217-f0bc-4850-a5fe-cfd53548a74d"
      },
      "execution_count": 1,
      "outputs": [
        {
          "output_type": "stream",
          "name": "stdout",
          "text": [
            "3\n",
            "2\n",
            "1\n",
            "Blastoff!\n"
          ]
        }
      ]
    },
    {
      "cell_type": "markdown",
      "source": [
        "Now let's change the order of the statements in the action."
      ],
      "metadata": {
        "id": "NEMpYwTMf9IT"
      }
    },
    {
      "cell_type": "code",
      "source": [
        "# 2\n",
        "num = 3\n",
        "while num > 0:\n",
        "    num = num - 1\n",
        "    print(num)\n",
        "print(\"Hmmm\")"
      ],
      "metadata": {
        "colab": {
          "base_uri": "https://localhost:8080/"
        },
        "id": "q5mAu7pxf8ax",
        "outputId": "ebca9652-0f5b-43f8-b411-80c3f027f95d"
      },
      "execution_count": 2,
      "outputs": [
        {
          "output_type": "stream",
          "name": "stdout",
          "text": [
            "2\n",
            "1\n",
            "0\n",
            "Hmmm\n"
          ]
        }
      ]
    },
    {
      "cell_type": "markdown",
      "source": [
        "What happens when we change the initial value of the variable?"
      ],
      "metadata": {
        "id": "EjJ3u0w5gY5U"
      }
    },
    {
      "cell_type": "code",
      "source": [
        "# 3\n",
        "num = 0\n",
        "while num > 0:\n",
        "    print(num)\n",
        "    num = num - 1\n",
        "print(\"Blastoff!\")"
      ],
      "metadata": {
        "colab": {
          "base_uri": "https://localhost:8080/"
        },
        "id": "X8JFQLkIhCPB",
        "outputId": "9105faec-1329-43af-d5a9-a5ac73d7e5c9"
      },
      "execution_count": 3,
      "outputs": [
        {
          "output_type": "stream",
          "name": "stdout",
          "text": [
            "Blastoff!\n"
          ]
        }
      ]
    },
    {
      "cell_type": "markdown",
      "source": [
        "So, it is possible that the action of the loop will be skipped if the condition is already False the first time it is evaluated."
      ],
      "metadata": {
        "id": "KIeRuNyshhs2"
      }
    },
    {
      "cell_type": "markdown",
      "source": [
        "Write a loop that will generate and print random integers, each in the range from 1 to 20, until one of the random integers is greater than 15. Then, after the loop, print the random integer that ended the loop."
      ],
      "metadata": {
        "id": "PsjD-g_3hrRg"
      }
    },
    {
      "cell_type": "code",
      "source": [
        "# 4\n",
        "from random import randint\n",
        "\n",
        "myran = randint(1, 20)\n",
        "while myran <= 15:\n",
        "    print(myran)\n",
        "    myran = randint(1, 20)\n",
        "print('The random number that ended this was',myran)"
      ],
      "metadata": {
        "colab": {
          "base_uri": "https://localhost:8080/"
        },
        "id": "C5iIUs8RiQTf",
        "outputId": "769da1d9-27f2-43a3-b16f-27fa656b9bb4"
      },
      "execution_count": 5,
      "outputs": [
        {
          "output_type": "stream",
          "name": "stdout",
          "text": [
            "3\n",
            "7\n",
            "The random number that ended this was 20\n"
          ]
        }
      ]
    },
    {
      "cell_type": "markdown",
      "source": [
        "Now, instead of generating random integers, modify this to prompt the user to enter integers (and print them) until the user enters a number greater than 15. After the loop, print the number that ended the loop."
      ],
      "metadata": {
        "id": "Hk1J42Ncja9G"
      }
    },
    {
      "cell_type": "code",
      "source": [
        "# 5\n",
        "mynum = int(input('Enter a number: '))\n",
        "while mynum <= 15:\n",
        "    print(mynum)\n",
        "    mynum = int(input('Enter a number: '))\n",
        "print('The number that ended this was',mynum)\n"
      ],
      "metadata": {
        "colab": {
          "base_uri": "https://localhost:8080/"
        },
        "id": "SYBvhbMHj8IN",
        "outputId": "db2038e0-3669-4e98-a7f5-ec5ecb1ef02d"
      },
      "execution_count": 11,
      "outputs": [
        {
          "output_type": "stream",
          "name": "stdout",
          "text": [
            "Enter a number: 3\n",
            "3\n",
            "Enter a number: 62\n",
            "The number that ended this was 62\n"
          ]
        }
      ]
    },
    {
      "cell_type": "markdown",
      "source": [
        "Ahead of time, we do not know how many times the action of a while loop will be executed. However, it is frequently useful to count the number of times that the action has been executed.  Write code that will generate random integers in the range from 1 to 30 until a number is generated that is divisible by 3 (3, 6, 9, etc.).  Count how many numbers are generated before a number that is divisible by 3. At the end, print in the form 'It took xx tries.' where xx is the number of tries it took."
      ],
      "metadata": {
        "id": "8UXigD9VkhC6"
      }
    },
    {
      "cell_type": "code",
      "source": [
        "# 6\n",
        "from random import randint\n",
        "mycount = 1\n",
        "myran = randint(1,30)\n",
        "while myran % 3 != 0:\n",
        "    print(myran)\n",
        "    myran = randint(1,30)\n",
        "    mycount = mycount + 1\n",
        "print(f'It took {mycount} tries.')\n"
      ],
      "metadata": {
        "colab": {
          "base_uri": "https://localhost:8080/"
        },
        "id": "w9xGEmH1lWVO",
        "outputId": "6fe1e1e9-807a-473c-aa00-4d99088277d6"
      },
      "execution_count": 8,
      "outputs": [
        {
          "output_type": "stream",
          "name": "stdout",
          "text": [
            "It took 1 tries.\n"
          ]
        }
      ]
    },
    {
      "cell_type": "markdown",
      "source": [
        "What if an integer divisible by 3 was generated on the first try? 'It took 1 tries.' is awkward. Add an if-else statement after the loop to either print 'It took 1 try.' or 'It took xx tries.'"
      ],
      "metadata": {
        "id": "M1OUNnOEmRaN"
      }
    },
    {
      "cell_type": "code",
      "source": [
        "# 7\n",
        "from random import randint\n",
        "mycount = 1\n",
        "myran = randint(1,30)\n",
        "while myran % 3 != 0:\n",
        "    print(myran)\n",
        "    myran = randint(1,30)\n",
        "    mycount = mycount + 1\n",
        "if mycount == 1:\n",
        "    print(f'It took {mycount} try.')\n",
        "else:\n",
        "    print(f'It took {mycount} tries.')"
      ],
      "metadata": {
        "colab": {
          "base_uri": "https://localhost:8080/"
        },
        "id": "bchZVIuemlFo",
        "outputId": "15d28642-6f30-4614-ded6-705b3da57d9b"
      },
      "execution_count": 10,
      "outputs": [
        {
          "output_type": "stream",
          "name": "stdout",
          "text": [
            "23\n",
            "It took 2 tries.\n"
          ]
        }
      ]
    },
    {
      "cell_type": "markdown",
      "source": [
        "Error-checking is an important application of while loops. Whenever the user is asked for input, there is almost always a valid range of values. When prompted, the code should loop until the user enters a valid value.  For example, write code that will prompt the user for a negative real number. Keep prompting until the user enters a negative number."
      ],
      "metadata": {
        "id": "cai9EWkNn5E0"
      }
    },
    {
      "cell_type": "code",
      "source": [
        "# 8\n",
        "mynum = float(input('Enter a negative number: '))\n",
        "while mynum >= 0:\n",
        "    mynum = float(input('Seriously, enter a negative number: '))\n",
        "print(f'Thanks! You entered {mynum:.1f}.')"
      ],
      "metadata": {
        "colab": {
          "base_uri": "https://localhost:8080/"
        },
        "id": "TEWsQo3Epnzv",
        "outputId": "cce9381b-9097-488e-8989-4b0d9c5b3fde"
      },
      "execution_count": 12,
      "outputs": [
        {
          "output_type": "stream",
          "name": "stdout",
          "text": [
            "Enter a negative number: 33\n",
            "Seriously, enter a negative number: 22\n",
            "Seriously, enter a negative number: 2.5\n",
            "Seriously, enter a negative number: -1\n",
            "Thanks! You entered -1.0.\n"
          ]
        }
      ]
    },
    {
      "cell_type": "markdown",
      "source": [
        "Now, write code that will prompt the user for a number in the range from 1 to 10. This time, the code will keep prompting as long as the user is not entering a number in the valid range, meaning that as long as the user is entering a number that is either less than 1 or greater than 10. So, there will be two parts to the condition."
      ],
      "metadata": {
        "id": "a2-UaCCwrbdP"
      }
    },
    {
      "cell_type": "code",
      "source": [
        "# 9\n",
        "mynum = float(input('Enter a number between 1 and 10: '))\n",
        "while mynum < 1 or mynum > 10:\n",
        "    mynum = float(input('Seriously, enter a number between 1 and 10: '))\n",
        "print(f'Thanks! You entered {mynum:.1f}.')"
      ],
      "metadata": {
        "colab": {
          "base_uri": "https://localhost:8080/"
        },
        "id": "bStHQ-hisMqU",
        "outputId": "437bb448-4c9e-4593-f9c6-56ae8ec8db86"
      },
      "execution_count": 14,
      "outputs": [
        {
          "output_type": "stream",
          "name": "stdout",
          "text": [
            "Enter a number between 1 and 10: 11.11\n",
            "Seriously, enter a number between 1 and 10: 5\n",
            "Thanks! You entered 5.0.\n"
          ]
        }
      ]
    },
    {
      "cell_type": "markdown",
      "source": [
        "Let's play Wordle!  Well, not really but we can start. Write code that will prompt the user for a 5 character word, and error-checks until the user enters a 5 character word."
      ],
      "metadata": {
        "id": "JSnb_8r-swlw"
      }
    },
    {
      "cell_type": "code",
      "source": [
        "# 10\n",
        "myword = input('Enter a 5 character word: ')\n",
        "while len(myword) != 5:\n",
        "    myword = input('Seriously, enter a 5 character word: ')\n",
        "print(f'Thanks! You entered {myword}.')"
      ],
      "metadata": {
        "colab": {
          "base_uri": "https://localhost:8080/"
        },
        "id": "qFr8Hvx7uRcp",
        "outputId": "54505288-2da3-4357-e66b-d9c8f0d732fe"
      },
      "execution_count": 15,
      "outputs": [
        {
          "output_type": "stream",
          "name": "stdout",
          "text": [
            "Enter a 5 character word: help?\n",
            "Thanks! You entered help?.\n"
          ]
        }
      ]
    },
    {
      "cell_type": "markdown",
      "source": [
        "How do you know if the user entered a valid word? That is difficult without a built-in dictionary, but at least you can make sure that all 5 characters are letters of the alphabet!"
      ],
      "metadata": {
        "id": "O1UUu7KRufGb"
      }
    },
    {
      "cell_type": "markdown",
      "source": [
        "Write some of your own problems. Post the and your solutions to the GPP Creative chat for Class 7.  Spend time writing your own quiz/exam problems. Quiz each other!"
      ],
      "metadata": {
        "id": "lGGBhKHnu7q5"
      }
    }
  ]
}