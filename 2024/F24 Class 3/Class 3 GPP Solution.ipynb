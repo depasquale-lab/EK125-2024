{
 "cells": [
  {
   "cell_type": "markdown",
   "id": "82e24820",
   "metadata": {},
   "source": [
    "Welcome to Class 3! Get into your groups of 3. Record your name and your partners' names below.\n",
    "My Name:\n",
    "Partners:"
   ]
  },
  {
   "cell_type": "markdown",
   "id": "02466fa6",
   "metadata": {},
   "source": [
    "First, we will examine some of the built-in modules. Start by importing the math module and using help(math) to examine the contents of this module."
   ]
  },
  {
   "cell_type": "code",
   "execution_count": 1,
   "id": "09510aa8",
   "metadata": {},
   "outputs": [
    {
     "name": "stdout",
     "output_type": "stream",
     "text": [
      "Help on module math:\n",
      "\n",
      "NAME\n",
      "    math\n",
      "\n",
      "MODULE REFERENCE\n",
      "    https://docs.python.org/3.9/library/math\n",
      "    \n",
      "    The following documentation is automatically generated from the Python\n",
      "    source files.  It may be incomplete, incorrect or include features that\n",
      "    are considered implementation detail and may vary between Python\n",
      "    implementations.  When in doubt, consult the module reference at the\n",
      "    location listed above.\n",
      "\n",
      "DESCRIPTION\n",
      "    This module provides access to the mathematical functions\n",
      "    defined by the C standard.\n",
      "\n",
      "FUNCTIONS\n",
      "    acos(x, /)\n",
      "        Return the arc cosine (measured in radians) of x.\n",
      "        \n",
      "        The result is between 0 and pi.\n",
      "    \n",
      "    acosh(x, /)\n",
      "        Return the inverse hyperbolic cosine of x.\n",
      "    \n",
      "    asin(x, /)\n",
      "        Return the arc sine (measured in radians) of x.\n",
      "        \n",
      "        The result is between -pi/2 and pi/2.\n",
      "    \n",
      "    asinh(x, /)\n",
      "        Return the inverse hyperbolic sine of x.\n",
      "    \n",
      "    atan(x, /)\n",
      "        Return the arc tangent (measured in radians) of x.\n",
      "        \n",
      "        The result is between -pi/2 and pi/2.\n",
      "    \n",
      "    atan2(y, x, /)\n",
      "        Return the arc tangent (measured in radians) of y/x.\n",
      "        \n",
      "        Unlike atan(y/x), the signs of both x and y are considered.\n",
      "    \n",
      "    atanh(x, /)\n",
      "        Return the inverse hyperbolic tangent of x.\n",
      "    \n",
      "    ceil(x, /)\n",
      "        Return the ceiling of x as an Integral.\n",
      "        \n",
      "        This is the smallest integer >= x.\n",
      "    \n",
      "    comb(n, k, /)\n",
      "        Number of ways to choose k items from n items without repetition and without order.\n",
      "        \n",
      "        Evaluates to n! / (k! * (n - k)!) when k <= n and evaluates\n",
      "        to zero when k > n.\n",
      "        \n",
      "        Also called the binomial coefficient because it is equivalent\n",
      "        to the coefficient of k-th term in polynomial expansion of the\n",
      "        expression (1 + x)**n.\n",
      "        \n",
      "        Raises TypeError if either of the arguments are not integers.\n",
      "        Raises ValueError if either of the arguments are negative.\n",
      "    \n",
      "    copysign(x, y, /)\n",
      "        Return a float with the magnitude (absolute value) of x but the sign of y.\n",
      "        \n",
      "        On platforms that support signed zeros, copysign(1.0, -0.0)\n",
      "        returns -1.0.\n",
      "    \n",
      "    cos(x, /)\n",
      "        Return the cosine of x (measured in radians).\n",
      "    \n",
      "    cosh(x, /)\n",
      "        Return the hyperbolic cosine of x.\n",
      "    \n",
      "    degrees(x, /)\n",
      "        Convert angle x from radians to degrees.\n",
      "    \n",
      "    dist(p, q, /)\n",
      "        Return the Euclidean distance between two points p and q.\n",
      "        \n",
      "        The points should be specified as sequences (or iterables) of\n",
      "        coordinates.  Both inputs must have the same dimension.\n",
      "        \n",
      "        Roughly equivalent to:\n",
      "            sqrt(sum((px - qx) ** 2.0 for px, qx in zip(p, q)))\n",
      "    \n",
      "    erf(x, /)\n",
      "        Error function at x.\n",
      "    \n",
      "    erfc(x, /)\n",
      "        Complementary error function at x.\n",
      "    \n",
      "    exp(x, /)\n",
      "        Return e raised to the power of x.\n",
      "    \n",
      "    expm1(x, /)\n",
      "        Return exp(x)-1.\n",
      "        \n",
      "        This function avoids the loss of precision involved in the direct evaluation of exp(x)-1 for small x.\n",
      "    \n",
      "    fabs(x, /)\n",
      "        Return the absolute value of the float x.\n",
      "    \n",
      "    factorial(x, /)\n",
      "        Find x!.\n",
      "        \n",
      "        Raise a ValueError if x is negative or non-integral.\n",
      "    \n",
      "    floor(x, /)\n",
      "        Return the floor of x as an Integral.\n",
      "        \n",
      "        This is the largest integer <= x.\n",
      "    \n",
      "    fmod(x, y, /)\n",
      "        Return fmod(x, y), according to platform C.\n",
      "        \n",
      "        x % y may differ.\n",
      "    \n",
      "    frexp(x, /)\n",
      "        Return the mantissa and exponent of x, as pair (m, e).\n",
      "        \n",
      "        m is a float and e is an int, such that x = m * 2.**e.\n",
      "        If x is 0, m and e are both 0.  Else 0.5 <= abs(m) < 1.0.\n",
      "    \n",
      "    fsum(seq, /)\n",
      "        Return an accurate floating point sum of values in the iterable seq.\n",
      "        \n",
      "        Assumes IEEE-754 floating point arithmetic.\n",
      "    \n",
      "    gamma(x, /)\n",
      "        Gamma function at x.\n",
      "    \n",
      "    gcd(*integers)\n",
      "        Greatest Common Divisor.\n",
      "    \n",
      "    hypot(...)\n",
      "        hypot(*coordinates) -> value\n",
      "        \n",
      "        Multidimensional Euclidean distance from the origin to a point.\n",
      "        \n",
      "        Roughly equivalent to:\n",
      "            sqrt(sum(x**2 for x in coordinates))\n",
      "        \n",
      "        For a two dimensional point (x, y), gives the hypotenuse\n",
      "        using the Pythagorean theorem:  sqrt(x*x + y*y).\n",
      "        \n",
      "        For example, the hypotenuse of a 3/4/5 right triangle is:\n",
      "        \n",
      "            >>> hypot(3.0, 4.0)\n",
      "            5.0\n",
      "    \n",
      "    isclose(a, b, *, rel_tol=1e-09, abs_tol=0.0)\n",
      "        Determine whether two floating point numbers are close in value.\n",
      "        \n",
      "          rel_tol\n",
      "            maximum difference for being considered \"close\", relative to the\n",
      "            magnitude of the input values\n",
      "          abs_tol\n",
      "            maximum difference for being considered \"close\", regardless of the\n",
      "            magnitude of the input values\n",
      "        \n",
      "        Return True if a is close in value to b, and False otherwise.\n",
      "        \n",
      "        For the values to be considered close, the difference between them\n",
      "        must be smaller than at least one of the tolerances.\n",
      "        \n",
      "        -inf, inf and NaN behave similarly to the IEEE 754 Standard.  That\n",
      "        is, NaN is not close to anything, even itself.  inf and -inf are\n",
      "        only close to themselves.\n",
      "    \n",
      "    isfinite(x, /)\n",
      "        Return True if x is neither an infinity nor a NaN, and False otherwise.\n",
      "    \n",
      "    isinf(x, /)\n",
      "        Return True if x is a positive or negative infinity, and False otherwise.\n",
      "    \n",
      "    isnan(x, /)\n",
      "        Return True if x is a NaN (not a number), and False otherwise.\n",
      "    \n",
      "    isqrt(n, /)\n",
      "        Return the integer part of the square root of the input.\n",
      "    \n",
      "    lcm(*integers)\n",
      "        Least Common Multiple.\n",
      "    \n",
      "    ldexp(x, i, /)\n",
      "        Return x * (2**i).\n",
      "        \n",
      "        This is essentially the inverse of frexp().\n",
      "    \n",
      "    lgamma(x, /)\n",
      "        Natural logarithm of absolute value of Gamma function at x.\n",
      "    \n",
      "    log(...)\n",
      "        log(x, [base=math.e])\n",
      "        Return the logarithm of x to the given base.\n",
      "        \n",
      "        If the base not specified, returns the natural logarithm (base e) of x.\n",
      "    \n",
      "    log10(x, /)\n",
      "        Return the base 10 logarithm of x.\n",
      "    \n",
      "    log1p(x, /)\n",
      "        Return the natural logarithm of 1+x (base e).\n",
      "        \n",
      "        The result is computed in a way which is accurate for x near zero.\n",
      "    \n",
      "    log2(x, /)\n",
      "        Return the base 2 logarithm of x.\n",
      "    \n",
      "    modf(x, /)\n",
      "        Return the fractional and integer parts of x.\n",
      "        \n",
      "        Both results carry the sign of x and are floats.\n",
      "    \n",
      "    nextafter(x, y, /)\n",
      "        Return the next floating-point value after x towards y.\n",
      "    \n",
      "    perm(n, k=None, /)\n",
      "        Number of ways to choose k items from n items without repetition and with order.\n",
      "        \n",
      "        Evaluates to n! / (n - k)! when k <= n and evaluates\n",
      "        to zero when k > n.\n",
      "        \n",
      "        If k is not specified or is None, then k defaults to n\n",
      "        and the function returns n!.\n",
      "        \n",
      "        Raises TypeError if either of the arguments are not integers.\n",
      "        Raises ValueError if either of the arguments are negative.\n",
      "    \n",
      "    pow(x, y, /)\n",
      "        Return x**y (x to the power of y).\n",
      "    \n",
      "    prod(iterable, /, *, start=1)\n",
      "        Calculate the product of all the elements in the input iterable.\n",
      "        \n",
      "        The default start value for the product is 1.\n",
      "        \n",
      "        When the iterable is empty, return the start value.  This function is\n",
      "        intended specifically for use with numeric values and may reject\n",
      "        non-numeric types.\n",
      "    \n",
      "    radians(x, /)\n",
      "        Convert angle x from degrees to radians.\n",
      "    \n",
      "    remainder(x, y, /)\n",
      "        Difference between x and the closest integer multiple of y.\n",
      "        \n",
      "        Return x - n*y where n*y is the closest integer multiple of y.\n",
      "        In the case where x is exactly halfway between two multiples of\n",
      "        y, the nearest even value of n is used. The result is always exact.\n",
      "    \n",
      "    sin(x, /)\n",
      "        Return the sine of x (measured in radians).\n",
      "    \n",
      "    sinh(x, /)\n",
      "        Return the hyperbolic sine of x.\n",
      "    \n",
      "    sqrt(x, /)\n",
      "        Return the square root of x.\n",
      "    \n",
      "    tan(x, /)\n",
      "        Return the tangent of x (measured in radians).\n",
      "    \n",
      "    tanh(x, /)\n",
      "        Return the hyperbolic tangent of x.\n",
      "    \n",
      "    trunc(x, /)\n",
      "        Truncates the Real x to the nearest Integral toward 0.\n",
      "        \n",
      "        Uses the __trunc__ magic method.\n",
      "    \n",
      "    ulp(x, /)\n",
      "        Return the value of the least significant bit of the float x.\n",
      "\n",
      "DATA\n",
      "    e = 2.718281828459045\n",
      "    inf = inf\n",
      "    nan = nan\n",
      "    pi = 3.141592653589793\n",
      "    tau = 6.283185307179586\n",
      "\n",
      "FILE\n",
      "    /Users/dorothyattaway/opt/anaconda3/lib/python3.9/lib-dynload/math.cpython-39-darwin.so\n",
      "\n",
      "\n"
     ]
    }
   ],
   "source": [
    "import math\n",
    "help(math)"
   ]
  },
  {
   "cell_type": "markdown",
   "id": "cf03d46a",
   "metadata": {},
   "source": [
    "Go to the bottom of the help list. \"DATA\" are the \"constants\". It looks like tau is 2 times pi. Use the equality operator to check this. Don't forget to use the dot operator (unless you import specific data/functions)!"
   ]
  },
  {
   "cell_type": "code",
   "execution_count": 3,
   "id": "782d1ee7",
   "metadata": {},
   "outputs": [
    {
     "data": {
      "text/plain": [
       "True"
      ]
     },
     "execution_count": 3,
     "metadata": {},
     "output_type": "execute_result"
    }
   ],
   "source": [
    "math.tau == 2 * math.pi"
   ]
  },
  {
   "cell_type": "markdown",
   "id": "32d92728",
   "metadata": {},
   "source": [
    "Use help(math.exp) to read about the built-in function exp."
   ]
  },
  {
   "cell_type": "code",
   "execution_count": 7,
   "id": "f0ba5cf2",
   "metadata": {},
   "outputs": [
    {
     "name": "stdout",
     "output_type": "stream",
     "text": [
      "Help on built-in function exp in module math:\n",
      "\n",
      "exp(x, /)\n",
      "    Return e raised to the power of x.\n",
      "\n"
     ]
    }
   ],
   "source": [
    "help(math.exp)"
   ]
  },
  {
   "cell_type": "markdown",
   "id": "2c591870",
   "metadata": {},
   "source": [
    "Use the equality operator to make sure that exp(4) is equivalent to e raised to the 4th power."
   ]
  },
  {
   "cell_type": "code",
   "execution_count": 8,
   "id": "25893f6c",
   "metadata": {},
   "outputs": [
    {
     "data": {
      "text/plain": [
       "False"
      ]
     },
     "execution_count": 8,
     "metadata": {},
     "output_type": "execute_result"
    }
   ],
   "source": [
    "math.exp(4) == math.e**4"
   ]
  },
  {
   "cell_type": "markdown",
   "id": "f21ef11e",
   "metadata": {},
   "source": [
    "If that expression was False, display the values of both to see how close they are to being equal."
   ]
  },
  {
   "cell_type": "code",
   "execution_count": 9,
   "id": "4f6862d7",
   "metadata": {},
   "outputs": [
    {
     "data": {
      "text/plain": [
       "54.598150033144236"
      ]
     },
     "execution_count": 9,
     "metadata": {},
     "output_type": "execute_result"
    }
   ],
   "source": [
    "math.exp(4)"
   ]
  },
  {
   "cell_type": "code",
   "execution_count": 10,
   "id": "524eb498",
   "metadata": {},
   "outputs": [
    {
     "data": {
      "text/plain": [
       "54.59815003314423"
      ]
     },
     "execution_count": 10,
     "metadata": {},
     "output_type": "execute_result"
    }
   ],
   "source": [
    "math.e**4"
   ]
  },
  {
   "cell_type": "markdown",
   "id": "14e1ae01",
   "metadata": {},
   "source": [
    "Note that the math module has a function \"isclose\". Try that instead of using the equality operator."
   ]
  },
  {
   "cell_type": "code",
   "execution_count": 16,
   "id": "89754ae0",
   "metadata": {},
   "outputs": [
    {
     "data": {
      "text/plain": [
       "True"
      ]
     },
     "execution_count": 16,
     "metadata": {},
     "output_type": "execute_result"
    }
   ],
   "source": [
    "math.isclose(math.exp(4), math.e**4)"
   ]
  },
  {
   "cell_type": "markdown",
   "id": "29cfb230",
   "metadata": {},
   "source": [
    "The factorial of a positive integer n is 1 * 2 * 3 * ... * n. Use the factorial function to examine the factorial of several integers."
   ]
  },
  {
   "cell_type": "code",
   "execution_count": 12,
   "id": "a4d10b49",
   "metadata": {},
   "outputs": [
    {
     "name": "stdout",
     "output_type": "stream",
     "text": [
      "720 720\n"
     ]
    }
   ],
   "source": [
    "print(math.factorial(6), 1*2*3*4*5*6)"
   ]
  },
  {
   "cell_type": "code",
   "execution_count": 14,
   "id": "e804ec69",
   "metadata": {},
   "outputs": [
    {
     "data": {
      "text/plain": [
       "24"
      ]
     },
     "execution_count": 14,
     "metadata": {},
     "output_type": "execute_result"
    }
   ],
   "source": [
    "math.factorial(4)"
   ]
  },
  {
   "cell_type": "markdown",
   "id": "4b2170a1",
   "metadata": {},
   "source": [
    "Go back and look at the Functions in the math help. There are some rounding functions in the math module including  ceil and floor. Experiment with these functions. Don't forget to thoroughly test them, including using negative and positive arguments."
   ]
  },
  {
   "cell_type": "code",
   "execution_count": 20,
   "id": "0df64b89",
   "metadata": {},
   "outputs": [
    {
     "name": "stdout",
     "output_type": "stream",
     "text": [
      "floor(4.2) is 4\n",
      "floor(4.5) is 4\n",
      "floor(4.8) is 4\n",
      "floor(-4.2) is -5\n",
      "floor(-4.5) is -5\n",
      "floor(-4.8) is -5\n"
     ]
    }
   ],
   "source": [
    "from math import floor\n",
    "print('floor(4.2) is',floor(4.2))\n",
    "print('floor(4.5) is',floor(4.5))\n",
    "print('floor(4.8) is',floor(4.8))\n",
    "print('floor(-4.2) is',floor(-4.2))\n",
    "print('floor(-4.5) is',floor(-4.5))\n",
    "print('floor(-4.8) is',floor(-4.8))"
   ]
  },
  {
   "cell_type": "code",
   "execution_count": 22,
   "id": "b6994d0c",
   "metadata": {},
   "outputs": [
    {
     "name": "stdout",
     "output_type": "stream",
     "text": [
      "ceil(4.2) is 5\n",
      "ceil(4.5) is 5\n",
      "ceil(4.8) is 5\n",
      "ceil(-4.2) is -4\n",
      "ceil(-4.5) is -4\n",
      "ceil(-4.8) is -4\n"
     ]
    }
   ],
   "source": [
    "from math import ceil\n",
    "print('ceil(4.2) is', ceil(4.2))\n",
    "print('ceil(4.5) is', ceil(4.5))\n",
    "print('ceil(4.8) is', ceil(4.8))\n",
    "print('ceil(-4.2) is', ceil(-4.2))\n",
    "print('ceil(-4.5) is', ceil(-4.5))\n",
    "print('ceil(-4.8) is', ceil(-4.8))"
   ]
  },
  {
   "cell_type": "markdown",
   "id": "c0d7f5a2",
   "metadata": {},
   "source": [
    "OK, now let's move on and examine some methods. Different types (or classes) have different methods. We'll look at some of the string methods first. "
   ]
  },
  {
   "cell_type": "markdown",
   "id": "67556421",
   "metadata": {},
   "source": [
    "Create a string variable that contains lower case letters, upper case letters, and other characters that are not letters of the alphabet. Use the upper method to change all letters to upper case, without modifying your variable. Don't forget that the syntax for calling a method is different from the syntax for calling functions!"
   ]
  },
  {
   "cell_type": "code",
   "execution_count": 23,
   "id": "ab00c821",
   "metadata": {},
   "outputs": [
    {
     "data": {
      "text/plain": [
       "'THIS IS CLASS # 3!'"
      ]
     },
     "execution_count": 23,
     "metadata": {},
     "output_type": "execute_result"
    }
   ],
   "source": [
    "sent = 'This is Class # 3!'\n",
    "sent.upper()"
   ]
  },
  {
   "cell_type": "markdown",
   "id": "e5653103",
   "metadata": {},
   "source": [
    "Now change all letters to lower case, again not changing the variable."
   ]
  },
  {
   "cell_type": "code",
   "execution_count": 24,
   "id": "458a4362",
   "metadata": {},
   "outputs": [
    {
     "data": {
      "text/plain": [
       "'this is class # 3!'"
      ]
     },
     "execution_count": 24,
     "metadata": {},
     "output_type": "execute_result"
    }
   ],
   "source": [
    "sent.lower()"
   ]
  },
  {
   "cell_type": "markdown",
   "id": "58e0f489",
   "metadata": {},
   "source": [
    "The index method is used to find where the first occurrence is of a character or substring. Use this to determine the index of a character that is in your string."
   ]
  },
  {
   "cell_type": "code",
   "execution_count": 25,
   "id": "6d6e0193",
   "metadata": {},
   "outputs": [
    {
     "data": {
      "text/plain": [
       "3"
      ]
     },
     "execution_count": 25,
     "metadata": {},
     "output_type": "execute_result"
    }
   ],
   "source": [
    "sent.index('s')"
   ]
  },
  {
   "cell_type": "markdown",
   "id": "a7a8b082",
   "metadata": {},
   "source": [
    "Now use index to locate a character that is not in your string variable."
   ]
  },
  {
   "cell_type": "code",
   "execution_count": 26,
   "id": "31c659ba",
   "metadata": {},
   "outputs": [
    {
     "ename": "ValueError",
     "evalue": "substring not found",
     "output_type": "error",
     "traceback": [
      "\u001b[0;31m---------------------------------------------------------------------------\u001b[0m",
      "\u001b[0;31mValueError\u001b[0m                                Traceback (most recent call last)",
      "\u001b[0;32m/var/folders/j9/v92c26p10979jkyb81f_nr_c0000gn/T/ipykernel_76771/2419470268.py\u001b[0m in \u001b[0;36m<module>\u001b[0;34m\u001b[0m\n\u001b[0;32m----> 1\u001b[0;31m \u001b[0msent\u001b[0m\u001b[0;34m.\u001b[0m\u001b[0mindex\u001b[0m\u001b[0;34m(\u001b[0m\u001b[0;34m'?'\u001b[0m\u001b[0;34m)\u001b[0m\u001b[0;34m\u001b[0m\u001b[0;34m\u001b[0m\u001b[0m\n\u001b[0m",
      "\u001b[0;31mValueError\u001b[0m: substring not found"
     ]
    }
   ],
   "source": [
    "sent.index('?')"
   ]
  },
  {
   "cell_type": "markdown",
   "id": "5b9ab7a0",
   "metadata": {},
   "source": [
    "Try the string methods islower, isupper, startswith, and endswith. Remember to test thoroughly!"
   ]
  },
  {
   "cell_type": "code",
   "execution_count": 30,
   "id": "169aefeb",
   "metadata": {},
   "outputs": [
    {
     "name": "stdout",
     "output_type": "stream",
     "text": [
      "False True True\n",
      "True False\n"
     ]
    }
   ],
   "source": [
    "print('Hello'.islower(), 'hello'.islower(), 'XYZ'.isupper())\n",
    "print('Hello'.startswith('H'), 'Hello'.startswith('x'))"
   ]
  },
  {
   "cell_type": "markdown",
   "id": "8f290133",
   "metadata": {},
   "source": [
    "Try the is_integer method with some float numbers."
   ]
  },
  {
   "cell_type": "code",
   "execution_count": 31,
   "id": "7e8fef6d",
   "metadata": {},
   "outputs": [
    {
     "name": "stdout",
     "output_type": "stream",
     "text": [
      "False True\n"
     ]
    }
   ],
   "source": [
    "print(4.5.is_integer(), 4.0.is_integer())"
   ]
  },
  {
   "cell_type": "markdown",
   "id": "c0e21538",
   "metadata": {},
   "source": [
    "Try the index method with a list."
   ]
  },
  {
   "cell_type": "code",
   "execution_count": 32,
   "id": "fdd65f3e",
   "metadata": {},
   "outputs": [
    {
     "data": {
      "text/plain": [
       "0"
      ]
     },
     "execution_count": 32,
     "metadata": {},
     "output_type": "execute_result"
    }
   ],
   "source": [
    "[4, 11, 33, 9].index(4)"
   ]
  },
  {
   "cell_type": "markdown",
   "id": "dee62e54",
   "metadata": {},
   "source": [
    "The random module has function random, randint, and choice.  First, import the random function which generates a random float and call it a couple of times."
   ]
  },
  {
   "cell_type": "code",
   "execution_count": 33,
   "id": "88e11fb8",
   "metadata": {},
   "outputs": [
    {
     "name": "stdout",
     "output_type": "stream",
     "text": [
      "0.18000587899630593 0.510416443370583\n"
     ]
    }
   ],
   "source": [
    "from random import random\n",
    "print(random(), random())"
   ]
  },
  {
   "cell_type": "markdown",
   "id": "a09f58eb",
   "metadata": {},
   "source": [
    "Use the randint function to generate a random integer in the range from 1 to 5 inclusive."
   ]
  },
  {
   "cell_type": "code",
   "execution_count": 34,
   "id": "c3705f8c",
   "metadata": {},
   "outputs": [
    {
     "name": "stdout",
     "output_type": "stream",
     "text": [
      "3 4 1\n"
     ]
    }
   ],
   "source": [
    "from random import randint\n",
    "print(randint(1,5), randint(1,5), randint(1,5))"
   ]
  },
  {
   "cell_type": "markdown",
   "id": "4415b7fd",
   "metadata": {},
   "source": [
    "Create a list and use the choice function to choose a random element from the list."
   ]
  },
  {
   "cell_type": "code",
   "execution_count": 37,
   "id": "496beb6a",
   "metadata": {},
   "outputs": [
    {
     "data": {
      "text/plain": [
       "33"
      ]
     },
     "execution_count": 37,
     "metadata": {},
     "output_type": "execute_result"
    }
   ],
   "source": [
    "from random import choice\n",
    "choice([4, 11, 33, 9])"
   ]
  },
  {
   "cell_type": "markdown",
   "id": "cbcf4266",
   "metadata": {},
   "source": [
    "Write some of your own problems. Post them and your solutions to the GPP Creative chat for Class 3. Spend time until the class ends writing your own quiz problems. Quiz each other!"
   ]
  }
 ],
 "metadata": {
  "kernelspec": {
   "display_name": "Python 3 (ipykernel)",
   "language": "python",
   "name": "python3"
  },
  "language_info": {
   "codemirror_mode": {
    "name": "ipython",
    "version": 3
   },
   "file_extension": ".py",
   "mimetype": "text/x-python",
   "name": "python",
   "nbconvert_exporter": "python",
   "pygments_lexer": "ipython3",
   "version": "3.9.13"
  }
 },
 "nbformat": 4,
 "nbformat_minor": 5
}
