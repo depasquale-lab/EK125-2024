{
  "nbformat": 4,
  "nbformat_minor": 0,
  "metadata": {
    "colab": {
      "provenance": []
    },
    "kernelspec": {
      "name": "python3",
      "display_name": "Python 3"
    },
    "language_info": {
      "name": "python"
    }
  },
  "cells": [
    {
      "cell_type": "markdown",
      "source": [
        "Lab 14 Worksheet"
      ],
      "metadata": {
        "id": "qAwcHJcBxL-D"
      }
    },
    {
      "cell_type": "markdown",
      "source": [
        "Write a function that will return different things, depending on the type of the parameter. The parameter could be an integer, a float, a list, or a string. Test your function on all types of parameters."
      ],
      "metadata": {
        "id": "75EfmiRnxPTJ"
      }
    },
    {
      "cell_type": "code",
      "source": [
        "# Problem 1\n",
        "\n",
        "def mixit(param):\n",
        "    \"\"\"This function will return different things, depending on the type of the parameter.\"\"\"\n",
        "    if type(param) == int:\n",
        "        return param * 2\n",
        "    elif type(param) == float:\n",
        "        return param * 4\n",
        "    elif type(param) == list:\n",
        "        return param[0]\n",
        "    else:\n",
        "        return param * 3\n",
        "\n",
        "print(mixit(7), mixit(3.1), mixit([44, 5, 2]), mixit('abc'))\n",
        ""
      ],
      "metadata": {
        "colab": {
          "base_uri": "https://localhost:8080/"
        },
        "id": "JWFmfKeFxhnR",
        "outputId": "026c1bec-0965-4bd5-84fb-b1ff4be76f3c"
      },
      "execution_count": 3,
      "outputs": [
        {
          "output_type": "stream",
          "name": "stdout",
          "text": [
            "14 12.4 44 abcabcabc\n"
          ]
        }
      ]
    },
    {
      "cell_type": "markdown",
      "source": [
        "Write a function that will prompt the user for a positive number and error-check until the user enters a valid value. The function will receive one string argument, which specifies what the user is to enter. For example, if the string is \"length\", the function prompts the user for a length."
      ],
      "metadata": {
        "id": "2o9Uwd79yorb"
      }
    },
    {
      "cell_type": "code",
      "source": [
        "# Problem 2\n",
        "\n",
        "def get_pos(promptword):\n",
        "    \"\"\"This function will prompt the user for a positive number\n",
        "    and error-check until the user enters a valid value.\"\"\"\n",
        "    prompt = \"Please enter a positive \" + promptword + \": \"\n",
        "    posnum = float(input(prompt))\n",
        "    while posnum <= 0:\n",
        "        print(\"That is not a positive number.\")\n",
        "        posnum = float(input(prompt))\n",
        "    return posnum\n",
        "\n",
        "\n",
        "print(get_pos(\"length\"))\n",
        "help(get_pos)"
      ],
      "metadata": {
        "colab": {
          "base_uri": "https://localhost:8080/"
        },
        "id": "6SE0Bfl9zCJA",
        "outputId": "64c23c68-4b1a-4115-d45e-8902d9c658a4"
      },
      "execution_count": 5,
      "outputs": [
        {
          "output_type": "stream",
          "name": "stdout",
          "text": [
            "Please enter a positive length: -4\n",
            "That is not a positive number.\n",
            "Please enter a positive length: 5.2\n",
            "5.2\n",
            "Help on function get_pos in module __main__:\n",
            "\n",
            "get_pos(promptword)\n",
            "    This function will prompt the user for a positive number\n",
            "    and error-check until the user enters a valid value.\n",
            "\n"
          ]
        }
      ]
    },
    {
      "cell_type": "markdown",
      "source": [
        "Write a function that will receive a list parameter and will return a list consisting of the unique elements in the parameter list. Hint: use the set function."
      ],
      "metadata": {
        "id": "9p-V9EaBzy6Y"
      }
    },
    {
      "cell_type": "code",
      "source": [
        "# Problem 3\n",
        "\n",
        "def unique(alist):\n",
        "    \"\"\"This function will receive a list parameter and will return\n",
        "    a list consisting of the unique elements in the parameter list.\"\"\"\n",
        "    return list(set(alist))\n",
        "\n",
        "unique([33, 'hi', 33, 3, 2, 2, 'x'])\n"
      ],
      "metadata": {
        "colab": {
          "base_uri": "https://localhost:8080/"
        },
        "id": "KuN8tfI50PdX",
        "outputId": "c771d354-6973-40ad-c72c-6f4a208bc0ad"
      },
      "execution_count": 6,
      "outputs": [
        {
          "output_type": "execute_result",
          "data": {
            "text/plain": [
              "[33, 2, 3, 'x', 'hi']"
            ]
          },
          "metadata": {},
          "execution_count": 6
        }
      ]
    },
    {
      "cell_type": "markdown",
      "source": [
        "Write a rotateright function that will receive a list and will return a new list in which the last element in the list parameter \"rotates\" to the beginning of the new list."
      ],
      "metadata": {
        "id": "zJYGg_KI04Fd"
      }
    },
    {
      "cell_type": "code",
      "source": [
        "# Problem 4\n",
        "\n",
        "def rotateright(alist):\n",
        "    \"\"\"This function will receive a list and will return a new list in which is rotated to the right\"\"\"\n",
        "    newlist = []\n",
        "    newlist.append(alist[-1])\n",
        "    for i in range(len(alist) - 1):\n",
        "        newlist.append(alist[i])\n",
        "    return newlist\n",
        "\n",
        "rotateright([33, 2, 5, 7, 19])"
      ],
      "metadata": {
        "colab": {
          "base_uri": "https://localhost:8080/"
        },
        "id": "Qo4LEx981GQe",
        "outputId": "f0d68e27-9915-4ac3-d404-95b1d654dd23"
      },
      "execution_count": 7,
      "outputs": [
        {
          "output_type": "execute_result",
          "data": {
            "text/plain": [
              "[19, 33, 2, 5, 7]"
            ]
          },
          "metadata": {},
          "execution_count": 7
        }
      ]
    },
    {
      "cell_type": "markdown",
      "source": [
        "Write a function to create and return a \"matrix\" of all 0's. The function will receive the number of rows and columns as parameters. The matrix will be represented by a nested list. Each sublist represents a row in the matrix."
      ],
      "metadata": {
        "id": "38-bNQDf2Iqv"
      }
    },
    {
      "cell_type": "code",
      "source": [
        "# Problem 5\n",
        "\n",
        "def zeros(rows, cols):\n",
        "    \"\"\"This function will return a matrix of all 0's \"\"\"\n",
        "\n",
        "    matrix = []\n",
        "    for i in range(rows):\n",
        "        matrix.append([0] * cols)\n",
        "    return matrix\n",
        "\n",
        "zeros(3, 4)\n"
      ],
      "metadata": {
        "colab": {
          "base_uri": "https://localhost:8080/"
        },
        "id": "NNO09W7E2eiE",
        "outputId": "45ae36e5-e1c4-4ae8-926e-aa42e2fbe80d"
      },
      "execution_count": 8,
      "outputs": [
        {
          "output_type": "execute_result",
          "data": {
            "text/plain": [
              "[[0, 0, 0, 0], [0, 0, 0, 0], [0, 0, 0, 0]]"
            ]
          },
          "metadata": {},
          "execution_count": 8
        }
      ]
    },
    {
      "cell_type": "markdown",
      "source": [
        "Write a function that will return an Identity matrix. An identity matrix is a square matrix (same number of rows and columns) of all 0's, with 1's on the diagonal. The matrix will receive one parameter which is the number of rows and columns."
      ],
      "metadata": {
        "id": "bCzaUqLk3COO"
      }
    },
    {
      "cell_type": "code",
      "source": [
        "# Problem 6\n",
        "\n",
        "def identity(n):\n",
        "    \"\"\"This function will return an identity matrix of size n\"\"\"\n",
        "    matrix = []\n",
        "    for i in range(n):\n",
        "        matrix.append([0] * n)\n",
        "    for i in range(n):\n",
        "        matrix[i][i] = 1\n",
        "    return matrix\n",
        "\n",
        "identity(4)"
      ],
      "metadata": {
        "colab": {
          "base_uri": "https://localhost:8080/"
        },
        "id": "QRrAKXkq3YUY",
        "outputId": "f7c56d89-7365-427c-faca-17dd99b44275"
      },
      "execution_count": 9,
      "outputs": [
        {
          "output_type": "execute_result",
          "data": {
            "text/plain": [
              "[[1, 0, 0, 0], [0, 1, 0, 0], [0, 0, 1, 0], [0, 0, 0, 1]]"
            ]
          },
          "metadata": {},
          "execution_count": 9
        }
      ]
    },
    {
      "cell_type": "markdown",
      "source": [
        "Write an isvowel function. The function will receive a character (a string of length 1) and will return True if it is a vowel, or False if it is any other character."
      ],
      "metadata": {
        "id": "leW_DCeeR6oU"
      }
    },
    {
      "cell_type": "code",
      "source": [
        "# Problem 7\n",
        "\n",
        "def isvowel(onechar):\n",
        "    \"\"\" This function determines whether or not a character is a vowel\"\"\"\n",
        "    if onechar.lower() in 'aeiou':\n",
        "        return True\n",
        "    else:\n",
        "        return False\n",
        "\n",
        "print(isvowel('x'), isvowel('E'))"
      ],
      "metadata": {
        "colab": {
          "base_uri": "https://localhost:8080/"
        },
        "id": "u2rpxC-MSNXe",
        "outputId": "13315f7a-725f-4d84-d80e-06bac66f0691"
      },
      "execution_count": 1,
      "outputs": [
        {
          "output_type": "stream",
          "name": "stdout",
          "text": [
            "False True\n"
          ]
        }
      ]
    },
    {
      "cell_type": "markdown",
      "source": [
        "Write an insert function for a string. It will receive, in this order, an original string, a string to insert in the original, and an index for the insertion."
      ],
      "metadata": {
        "id": "WLtDWHL_S4Vg"
      }
    },
    {
      "cell_type": "code",
      "source": [
        "# Problem 8\n",
        "\n",
        "def string_insert(orig, insstr, where):\n",
        "    \"\"\" This function inserts a string into another string at a given index\"\"\"\n",
        "    return orig[:where] + insstr + orig[where:]\n",
        "\n",
        "newstr = string_insert('Hello', 'abc', 3)\n",
        "newstr"
      ],
      "metadata": {
        "colab": {
          "base_uri": "https://localhost:8080/",
          "height": 35
        },
        "id": "FVlxIh2mTE07",
        "outputId": "fbd6c660-469d-4ffe-d7c0-5014328c5923"
      },
      "execution_count": 2,
      "outputs": [
        {
          "output_type": "execute_result",
          "data": {
            "text/plain": [
              "'Helabclo'"
            ],
            "application/vnd.google.colaboratory.intrinsic+json": {
              "type": "string"
            }
          },
          "metadata": {},
          "execution_count": 2
        }
      ]
    }
  ]
}