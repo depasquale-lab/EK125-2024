{
  "nbformat": 4,
  "nbformat_minor": 0,
  "metadata": {
    "colab": {
      "provenance": []
    },
    "kernelspec": {
      "name": "python3",
      "display_name": "Python 3"
    },
    "language_info": {
      "name": "python"
    }
  },
  "cells": [
    {
      "cell_type": "markdown",
      "source": [
        "Lab 7 Worksheet\n",
        "\n",
        "Name:"
      ],
      "metadata": {
        "id": "_I9fkndSzB09"
      }
    },
    {
      "cell_type": "markdown",
      "source": [
        "Write a script that will prompt the user for positive numbers, and print a running sum of the numbers, until the user enters a zero or a negative number. Then, also print the end result."
      ],
      "metadata": {
        "id": "5oO7fTPkzHYQ"
      }
    },
    {
      "cell_type": "code",
      "source": [
        "# 1\n"
      ],
      "metadata": {
        "id": "vkbGyzgC2Bfw"
      },
      "execution_count": null,
      "outputs": []
    },
    {
      "cell_type": "markdown",
      "source": [
        "Write a script that will prompt the user for positive numbers until the user enters a negative number. Calculate and print the average of the positive numbers, or an error message if no positive numbers are entered. So, you will need to sum the numbers and keep a count."
      ],
      "metadata": {
        "id": "hYUGiP1d3KRT"
      }
    },
    {
      "cell_type": "code",
      "source": [
        "# 2\n",
        "\n"
      ],
      "metadata": {
        "id": "V6maKDZg349K"
      },
      "execution_count": null,
      "outputs": []
    },
    {
      "cell_type": "markdown",
      "source": [
        "Write a script that will prompt the user for minimum and maximum integers, and then another integer which is the user's choice in the range from the minimum to the maximum. The script will then generate random integers in the range from the minimum to the maximum, until a match for the user's choice is generated. The script will print how many random integers had to be generated until a match for the user's choice was found. Think about what kind of error-checking should be done!"
      ],
      "metadata": {
        "id": "CwBL3krb4iRk"
      }
    },
    {
      "cell_type": "code",
      "source": [
        "# 3\n",
        "\n",
        "\n"
      ],
      "metadata": {
        "id": "nBikdtQ96fzQ"
      },
      "execution_count": null,
      "outputs": []
    },
    {
      "cell_type": "markdown",
      "source": [
        "Write a script that will present the user with choices for functions \"1 for round\", \"2 for floor\", \"3 for ceil\". Error-check by looping to display the choices until the user enters 1, 2, or 3. Then, generate a random real number and print the result of the user's function choice."
      ],
      "metadata": {
        "id": "1tre99GC7vZT"
      }
    },
    {
      "cell_type": "code",
      "source": [
        "# 4\n",
        "\n"
      ],
      "metadata": {
        "id": "F_ISGhaC8QVx"
      },
      "execution_count": null,
      "outputs": []
    },
    {
      "cell_type": "markdown",
      "source": [
        "Write a script that will prompt the user to enter one of four options: 1, 2, 3, or 'Q' for quit. The script will print different things depending on the user's choice, until the user enters 'Q'. If the user does not enter one of the valid choices, the code will print a different message."
      ],
      "metadata": {
        "id": "SXCmgjki_Wrw"
      }
    },
    {
      "cell_type": "code",
      "source": [
        "# 5\n",
        "\n"
      ],
      "metadata": {
        "id": "yg1Npr93_2mo"
      },
      "execution_count": null,
      "outputs": []
    }
  ]
}