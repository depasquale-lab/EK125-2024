{
  "nbformat": 4,
  "nbformat_minor": 0,
  "metadata": {
    "colab": {
      "provenance": []
    },
    "kernelspec": {
      "name": "python3",
      "display_name": "Python 3"
    },
    "language_info": {
      "name": "python"
    }
  },
  "cells": [
    {
      "cell_type": "markdown",
      "source": [
        "Lab 8 Worksheet\n",
        "\n",
        "Lab Section:\n",
        "\n",
        "Name:"
      ],
      "metadata": {
        "id": "5d0UcjteGmxO"
      }
    },
    {
      "cell_type": "markdown",
      "source": [
        "Prompt the user for positive integers n and m. Loop to make sure that the user enters positive integers. Then, print an n x m box of stars (n rows with m stars in each row)."
      ],
      "metadata": {
        "id": "p0qtV3MfGtF-"
      }
    },
    {
      "cell_type": "code",
      "source": [
        "# 1\n",
        "n = int(input('Enter a positive integer: '))\n",
        "while n <= 0:\n",
        "    n = int(input('Enter a positive integer: '))\n",
        "\n",
        "m = int(input('Enter a positive integer: '))\n",
        "while m <= 0:\n",
        "    m = int(input('Enter a positive integer: '))\n",
        "\n",
        "for i in range(n):\n",
        "    for j in range(m):\n",
        "        print('*', end='')\n",
        "    print()"
      ],
      "metadata": {
        "colab": {
          "base_uri": "https://localhost:8080/"
        },
        "id": "thr6bQDRH2FV",
        "outputId": "29e14405-aae3-4bfc-d7f9-3a1c5e824388"
      },
      "execution_count": 3,
      "outputs": [
        {
          "output_type": "stream",
          "name": "stdout",
          "text": [
            "Enter a positive integer: 4\n",
            "Enter a positive integer: 8\n",
            "********\n",
            "********\n",
            "********\n",
            "********\n"
          ]
        }
      ]
    },
    {
      "cell_type": "markdown",
      "source": [
        "Prompt the user for a positive integer n. Then print a triangle of stars, starting with 0 in the first row and incrementing to n-1 stars in the n-1st row."
      ],
      "metadata": {
        "id": "c_BEhpziIh6-"
      }
    },
    {
      "cell_type": "code",
      "source": [
        "# 2\n",
        "\n",
        "n = int(input('Enter a positive integer: '))\n",
        "while n <= 0:\n",
        "    n = int(input('Enter a positive integer: '))\n",
        "\n",
        "for i in range(n):\n",
        "    for j in range(i):\n",
        "        print('*', end='')\n",
        "    print()"
      ],
      "metadata": {
        "colab": {
          "base_uri": "https://localhost:8080/"
        },
        "id": "XHv8bNsWI2yX",
        "outputId": "29b443c1-8753-4a57-dd60-fc723e901b5a"
      },
      "execution_count": 5,
      "outputs": [
        {
          "output_type": "stream",
          "name": "stdout",
          "text": [
            "Enter a positive integer: 5\n",
            "\n",
            "*\n",
            "**\n",
            "***\n",
            "****\n"
          ]
        }
      ]
    },
    {
      "cell_type": "markdown",
      "source": [
        "We have seen that lists can contain sequence types, such as strings. Lists can also contain lists; this is called a nested list.  For example, here is a list of lists containing integers.  Execute this."
      ],
      "metadata": {
        "id": "R_jZwBu2J5p3"
      }
    },
    {
      "cell_type": "code",
      "source": [
        "# 3\n",
        "\n",
        "nestnumlist = [[1, 3, 11], [2, 5], [4, 7, 2, 1]]\n",
        "nestnumlist"
      ],
      "metadata": {
        "colab": {
          "base_uri": "https://localhost:8080/"
        },
        "id": "JLOR1JwSLMXm",
        "outputId": "8995ddce-63d3-4dbb-aa50-854e8710954c"
      },
      "execution_count": 6,
      "outputs": [
        {
          "output_type": "execute_result",
          "data": {
            "text/plain": [
              "[[1, 3, 11], [2, 5], [4, 7, 2, 1]]"
            ]
          },
          "metadata": {},
          "execution_count": 6
        }
      ]
    },
    {
      "cell_type": "markdown",
      "source": [
        "Now, loop through nestnumlist and print how many elements are in each of the lists. Write general code; do not assume that you know what is in the variable nestnumlist."
      ],
      "metadata": {
        "id": "62eJ5cUdLoMd"
      }
    },
    {
      "cell_type": "code",
      "source": [
        "# 4\n",
        "\n",
        "nestnumlist = [[1, 3, 11], [2, 5], [4, 7, 2, 1]]\n",
        "\n",
        "for onelist in nestnumlist:\n",
        "    print('The length is',len(onelist))"
      ],
      "metadata": {
        "colab": {
          "base_uri": "https://localhost:8080/"
        },
        "id": "b5EHrvQZL1mN",
        "outputId": "89cb6225-c7ba-4487-9ed4-c42484b40af0"
      },
      "execution_count": 8,
      "outputs": [
        {
          "output_type": "stream",
          "name": "stdout",
          "text": [
            "The length is 3\n",
            "The length is 2\n",
            "The length is 4\n"
          ]
        }
      ]
    },
    {
      "cell_type": "markdown",
      "source": [
        "Use a nested for loop to calculate a running sum of all of the integers in all of the lists in the variable nestnumlist."
      ],
      "metadata": {
        "id": "h5acCcOsMOgi"
      }
    },
    {
      "cell_type": "code",
      "source": [
        "# 5\n",
        "\n",
        "nestnumlist = [[1, 3, 11], [2, 5], [4, 7, 2, 1]]\n",
        "\n",
        "mysum = 0\n",
        "for onelist in nestnumlist:\n",
        "    for oneelement in onelist:\n",
        "        mysum = mysum + oneelement\n",
        "\n",
        "print('The overall sum is',mysum)"
      ],
      "metadata": {
        "colab": {
          "base_uri": "https://localhost:8080/"
        },
        "id": "ZpLtQwAFMe-J",
        "outputId": "d5df9606-f987-4c1a-b8c5-cbff0268baf5"
      },
      "execution_count": 9,
      "outputs": [
        {
          "output_type": "stream",
          "name": "stdout",
          "text": [
            "The overall sum is 36\n"
          ]
        }
      ]
    },
    {
      "cell_type": "markdown",
      "source": [
        "Use a nested for loop to find the largest number in the variable nestnumlist."
      ],
      "metadata": {
        "id": "VBf1ElWXNSU8"
      }
    },
    {
      "cell_type": "code",
      "source": [
        "# 6\n",
        "\n",
        "nestnumlist = [[1, 3, 11], [2, 5], [4, 7, 2, 1]]\n",
        "\n",
        "largesofar = nestnumlist[0][0]\n",
        "for onelist in nestnumlist:\n",
        "    for oneelement in onelist:\n",
        "        if oneelement > largesofar:\n",
        "            largesofar = oneelement\n",
        "\n",
        "print('The largest number is',largesofar)"
      ],
      "metadata": {
        "colab": {
          "base_uri": "https://localhost:8080/"
        },
        "id": "ol6KXJjnNZ4x",
        "outputId": "3eeb3fde-09b1-4865-b33f-1d960d74eaa0"
      },
      "execution_count": 10,
      "outputs": [
        {
          "output_type": "stream",
          "name": "stdout",
          "text": [
            "The largest number is 11\n"
          ]
        }
      ]
    },
    {
      "cell_type": "markdown",
      "source": [
        "Generate a random integer n in the range from 3 to 6. Then, n times, prompt the user for the radius of a circle. For each, calculate the circle area and print the result. Make sure that each radius is valid."
      ],
      "metadata": {
        "id": "tnEwyj58NwGE"
      }
    },
    {
      "cell_type": "code",
      "source": [
        "# 7\n",
        "\n",
        "from random import randint\n",
        "from math import pi\n",
        "\n",
        "n = randint(3, 6)\n",
        "for i in range(n):\n",
        "    rad = float(input('Enter the radius: '))\n",
        "    while rad <= 0:\n",
        "        rad = float(input('Enter the radius: '))\n",
        "    area = pi * rad * rad\n",
        "    print(f'For a circle with radius {rad:.2f} units, the area is {area:.2f} units squared.')"
      ],
      "metadata": {
        "colab": {
          "base_uri": "https://localhost:8080/"
        },
        "id": "hw-V35rnODyP",
        "outputId": "073230e6-9765-4f52-989b-6d15e99b882a"
      },
      "execution_count": 12,
      "outputs": [
        {
          "output_type": "stream",
          "name": "stdout",
          "text": [
            "Enter the radius: 4.1\n",
            "For a circle with radius 4.10 units, the area is 52.81 units squared.\n",
            "Enter the radius: 3.333\n",
            "For a circle with radius 3.33 units, the area is 34.90 units squared.\n",
            "Enter the radius: 4.5678\n",
            "For a circle with radius 4.57 units, the area is 65.55 units squared.\n"
          ]
        }
      ]
    },
    {
      "cell_type": "markdown",
      "source": [
        "Continue studying for the exam on Friday!  Make up your own nested loop problems. Think about what sample codes you will put on your 8.5x11\" reference sheet."
      ],
      "metadata": {
        "id": "rmhyOrKbO7Br"
      }
    }
  ]
}