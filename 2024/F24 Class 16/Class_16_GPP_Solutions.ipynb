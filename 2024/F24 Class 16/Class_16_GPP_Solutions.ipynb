{
  "nbformat": 4,
  "nbformat_minor": 0,
  "metadata": {
    "colab": {
      "provenance": []
    },
    "kernelspec": {
      "name": "python3",
      "display_name": "Python 3"
    },
    "language_info": {
      "name": "python"
    }
  },
  "cells": [
    {
      "cell_type": "markdown",
      "source": [
        "Class 16 GPP. Today is about modular programs: scripts that call functions to do the actual work. Please write all of your own code. Do not use generative AI."
      ],
      "metadata": {
        "id": "J_jBeVzzAH1N"
      }
    },
    {
      "cell_type": "markdown",
      "source": [
        "Name:  \n",
        "\n",
        "Partners:"
      ],
      "metadata": {
        "id": "yZCZguC8AfN6"
      }
    },
    {
      "cell_type": "markdown",
      "source": [
        "All modular programs should consist of a \"main program\" script that calls functions. Write the function definitions and the script. Put doc strings in all functions. If there is user input, make sure that you error-check."
      ],
      "metadata": {
        "id": "DOYz0RjOFd_N"
      }
    },
    {
      "cell_type": "markdown",
      "source": [
        "Write a program that will prompt the user for an angle in degrees, convert it to radians, and print the result. You should have 3 functions: a function to get the angle, a function to convert to radians, and a function to print the results."
      ],
      "metadata": {
        "id": "BT0DdqbHFx63"
      }
    },
    {
      "cell_type": "code",
      "source": [
        "# 1\n",
        "\n",
        "def getangle():\n",
        "    \"\"\" Prompts the user for an angle in degrees and returns it.\"\"\"\n",
        "    deg = float(input(\"Enter an angle in degrees: \"))\n",
        "    while deg < 0:\n",
        "        print(\"Invalid input. Please enter a positive number.\")\n",
        "        deg = float(input(\"Enter an angle in degrees: \"))\n",
        "    return deg\n",
        "\n",
        "def convert(deg):\n",
        "    \"\"\" Converts the angle from degrees to radians.\"\"\"\n",
        "    from math import pi\n",
        "    rad = deg * pi / 180\n",
        "    return rad\n",
        "\n",
        "def printresult(deg, rad):\n",
        "    \"\"\" Prints all 3 lengths. \"\"\"\n",
        "    print(f\"{deg} degrees is equal to {rad:.2f} radians.\")\n",
        "\n",
        "# main program\n",
        "deg = getangle()\n",
        "rad = convert(deg)\n",
        "printresult(deg, rad)"
      ],
      "metadata": {
        "colab": {
          "base_uri": "https://localhost:8080/"
        },
        "id": "BzEnmSWfGC_8",
        "outputId": "ea76362e-8134-4f9d-9ca7-54fb10aa0026"
      },
      "execution_count": 2,
      "outputs": [
        {
          "output_type": "stream",
          "name": "stdout",
          "text": [
            "Enter an angle in degrees: 66\n",
            "66.0 degrees is equal to 1.15 radians.\n"
          ]
        }
      ]
    },
    {
      "cell_type": "markdown",
      "source": [
        "Write a program that will consist of a script that calls 3 functions. One function prompts the user for a number of kilometers (K). This function should of course error-check. The second function converts the number of kilometers  to miles (1K = 0.621 miles) and U.S. nautical miles (1 U.S. nautical mile = 1.852K) and returns both. The third function prints everything in a nice sentence format."
      ],
      "metadata": {
        "id": "ej55EfeIAieS"
      }
    },
    {
      "cell_type": "code",
      "source": [
        "# 2\n",
        "\n",
        "def getk():\n",
        "    \"\"\" Prompts the user for a number of kilometers (K) and returns it.\"\"\"\n",
        "    k = float(input(\"Enter a number of kilometers: \"))\n",
        "    while k <= 0:\n",
        "        print(\"Invalid input. Please enter a positive number.\")\n",
        "        k = float(input(\"Enter a number of kilometers: \"))\n",
        "    return k\n",
        "\n",
        "def convert(k):\n",
        "    \"\"\" Converts the number of kilometers to miles and nautical miles.\"\"\"\n",
        "    miles = k * 0.621\n",
        "    nautical = k * 1.852\n",
        "    return miles, nautical\n",
        "\n",
        "def printresult(k, miles, nautical):\n",
        "    \"\"\" Prints all 3 lengths. \"\"\"\n",
        "    print(f\"{k} kilometers is equal to {miles:.2f} miles and {nautical:.2f} nautical miles.\")\n",
        "\n",
        "\n",
        "# main program\n",
        "k = getk()\n",
        "miles, nautical = convert(k)\n",
        "printresult(k, miles, nautical)"
      ],
      "metadata": {
        "colab": {
          "base_uri": "https://localhost:8080/"
        },
        "id": "YrOhRgMhDeeS",
        "outputId": "8fb5e1e7-8254-4689-aa57-034c56c750dc"
      },
      "execution_count": 1,
      "outputs": [
        {
          "output_type": "stream",
          "name": "stdout",
          "text": [
            "Enter a number of kilometers: -3\n",
            "Invalid input. Please enter a positive number.\n",
            "Enter a number of kilometers: 5\n",
            "5.0 kilometers is equal to 3.10 miles and 9.26 nautical miles.\n"
          ]
        }
      ]
    },
    {
      "cell_type": "markdown",
      "source": [
        "Write a program that will have functions to prompt the user for 5 x values and return them in a list, create a list of y values where y = sin(x), and print the x and y values in columns. Use a list comprehension to create the list of y values.  (If you have done HW 1, plot the points!)"
      ],
      "metadata": {
        "id": "X1hKT06EHT0k"
      }
    },
    {
      "cell_type": "code",
      "source": [
        "# 3\n",
        "\n",
        "def getx():\n",
        "    \"\"\" Prompts the user for x values and returns them in a list.\"\"\"\n",
        "    xlist = []\n",
        "    for i in range(5):\n",
        "        x = float(input(f\"Enter x{i+1}: \"))\n",
        "        xlist.append(x)\n",
        "    return xlist\n",
        "\n",
        "def gety(xlist):\n",
        "    \"\"\" Creates a list of y values where y = sin(x).\"\"\"\n",
        "    from math import sin\n",
        "    ylist = [sin(x) for x in xlist]\n",
        "    return ylist\n",
        "\n",
        "def printresult(xlist, ylist):\n",
        "    \"\"\" Prints the x and y values in columns.\"\"\"\n",
        "    print(\"      x       y\")\n",
        "    print(\"-\"*16)\n",
        "\n",
        "    for i in range(5):\n",
        "        print(f\"{xlist[i]:8.1f}{ylist[i]:8.1f}\")\n",
        "\n",
        "# main program\n",
        "\n",
        "xlist = getx()\n",
        "ylist = gety(xlist)\n",
        "printresult(xlist, ylist)"
      ],
      "metadata": {
        "colab": {
          "base_uri": "https://localhost:8080/"
        },
        "id": "Ee11ul92HtY5",
        "outputId": "5d1bbdc8-7553-43c1-e019-5e6502c7bb8c"
      },
      "execution_count": 11,
      "outputs": [
        {
          "output_type": "stream",
          "name": "stdout",
          "text": [
            "Enter x1: 2\n",
            "Enter x2: 3.2\n",
            "Enter x3: 66\n",
            "Enter x4: 5\n",
            "Enter x5: 1\n",
            "      x       y\n",
            "----------------\n",
            "     2.0     0.9\n",
            "     3.2    -0.1\n",
            "    66.0    -0.0\n",
            "     5.0    -1.0\n",
            "     1.0     0.8\n"
          ]
        }
      ]
    },
    {
      "cell_type": "markdown",
      "source": [
        "Write a program that consists of calling two functions: the first generates a random integer n in the range from 5 to 10, and prompts the user for a character, and returns both. If the user enters a string of more than one character, just return the first character. The second function prints an n x n  square box of the characters."
      ],
      "metadata": {
        "id": "EjbWSm6rLEEy"
      }
    },
    {
      "cell_type": "code",
      "source": [
        "# 4\n",
        "\n",
        "def getnchar():\n",
        "  \"\"\" Generates a random integer n in the range from 5 to 10, and prompts the user for a character.\"\"\"\n",
        "  from random import randint\n",
        "  n = randint(5, 10)\n",
        "  char = input(\"Enter a character: \")\n",
        "  char = char[0]\n",
        "  return n, char\n",
        "\n",
        "def printbox(n, char):\n",
        "  \"\"\" Prints an n x n square box of the characters.\"\"\"\n",
        "  for i in range(n):\n",
        "    print(char * n)\n",
        "\n",
        "# main program\n",
        "\n",
        "n, char = getnchar()\n",
        "printbox(n, char)"
      ],
      "metadata": {
        "colab": {
          "base_uri": "https://localhost:8080/"
        },
        "id": "MzmZHzGPMv5i",
        "outputId": "10561aad-ab4e-4115-ff78-9fb6f8ae5b94"
      },
      "execution_count": 12,
      "outputs": [
        {
          "output_type": "stream",
          "name": "stdout",
          "text": [
            "Enter a character: ?\n",
            "??????\n",
            "??????\n",
            "??????\n",
            "??????\n",
            "??????\n",
            "??????\n"
          ]
        }
      ]
    },
    {
      "cell_type": "markdown",
      "source": [
        "Write a program that will prompt the user for a length and width of a rectangle, and will print the area. The script will use a function that prompts the user for a positive number and error-checks until the user enters a valid value. The function will receive one string argument, which specifies what the user is to enter. The script calls this function twice, once to get the length and again to get the width. The script then calls another function to calculate and return the area, and a third function to print the results."
      ],
      "metadata": {
        "id": "hPRr4XElN1X1"
      }
    },
    {
      "cell_type": "code",
      "source": [
        "# 5\n",
        "\n",
        "def getpos(name):\n",
        "    \"\"\" Prompts the user for a positive number and error-checks\"\"\"\n",
        "    num = float(input(f\"Enter a positive {name}: \"))\n",
        "    while num <= 0:\n",
        "        print(\"Invalid input. Please enter a positive number.\")\n",
        "        num = float(input(f\"Enter a positive {name}: \"))\n",
        "    return num\n",
        "\n",
        "def calc(len, wid):\n",
        "    \"\"\" Calculates the area of a rectangle.\"\"\"\n",
        "    area = len * wid\n",
        "    return area\n",
        "\n",
        "def printresult(len, wid, area):\n",
        "    \"\"\" Prints all 3 lengths. \"\"\"\n",
        "    print(f\"A rectangle with length {len} and width {wid} has an area of {area}.\")\n",
        "\n",
        "# main program\n",
        "len = getpos(\"length\")\n",
        "wid = getpos(\"width\")\n",
        "area = calc(len, wid)\n",
        "printresult(len, wid, area)"
      ],
      "metadata": {
        "colab": {
          "base_uri": "https://localhost:8080/"
        },
        "id": "fI5Z5DHwOWx2",
        "outputId": "b033ea59-f6f6-46ae-b610-2f3b1d3c6c50"
      },
      "execution_count": 14,
      "outputs": [
        {
          "output_type": "stream",
          "name": "stdout",
          "text": [
            "Enter a positive length: -9\n",
            "Invalid input. Please enter a positive number.\n",
            "Enter a positive length: 4\n",
            "Enter a positive width: 3\n",
            "A rectangle with length 4.0 and width 3.0 has an area of 12.0.\n"
          ]
        }
      ]
    },
    {
      "cell_type": "markdown",
      "source": [
        "On the class 10 GPP, you had a problem to write code that will shuffle stringlist 10 times, and. count how many times the shuffled list was the same as the original. We gave you the beginning of the code, which created the origlist and the stringlist.  Why did we do it this way? First, run the solution a few times."
      ],
      "metadata": {
        "id": "zkydNKGVPEbF"
      }
    },
    {
      "cell_type": "code",
      "source": [
        "\n",
        "# 6a\n",
        "\n",
        "origlist = ['abc', 'xyz', 'hello', 'Coding rocks']\n",
        "stringlist = ['abc', 'xyz', 'hello', 'Coding rocks']\n",
        "\n",
        "# You fill in the rest of the code\n",
        "from random import shuffle\n",
        "counter = 0\n",
        "for i in range(10):\n",
        "    shuffle(stringlist)\n",
        "    if stringlist == origlist:\n",
        "       counter = counter + 1\n",
        "print(counter)"
      ],
      "metadata": {
        "colab": {
          "base_uri": "https://localhost:8080/"
        },
        "id": "cOI8uuE5QPkR",
        "outputId": "ca6816fd-9716-46f3-b274-401fbff32930"
      },
      "execution_count": 31,
      "outputs": [
        {
          "output_type": "stream",
          "name": "stdout",
          "text": [
            "2\n"
          ]
        }
      ]
    },
    {
      "cell_type": "markdown",
      "source": [
        "Why not start with this:\n",
        "\n",
        "origlist = ['abc', 'xyz', 'hello', 'Coding rocks']\n",
        "\n",
        "stringlist = origlist\n",
        "\n",
        "Execute the following a bunch of times."
      ],
      "metadata": {
        "id": "R2VnNnzGRa0H"
      }
    },
    {
      "cell_type": "code",
      "source": [
        "# 6b\n",
        "\n",
        "origlist = ['abc', 'xyz', 'hello', 'Coding rocks']\n",
        "stringlist = origlist\n",
        "\n",
        "# You fill in the rest of the code\n",
        "from random import shuffle\n",
        "counter = 0\n",
        "for i in range(10):\n",
        "    shuffle(stringlist)\n",
        "    if stringlist == origlist:\n",
        "       counter = counter + 1\n",
        "print(counter)"
      ],
      "metadata": {
        "colab": {
          "base_uri": "https://localhost:8080/"
        },
        "id": "Biodx0qLRktB",
        "outputId": "30d94dba-5e9d-4b88-f639-b2508c819acf"
      },
      "execution_count": 35,
      "outputs": [
        {
          "output_type": "stream",
          "name": "stdout",
          "text": [
            "10\n"
          ]
        }
      ]
    },
    {
      "cell_type": "markdown",
      "source": [
        "Always 10, right? This is because lists are a mutable type, and assigning one variable to another means that they refer to the same location. Let's modify this. Write a function that will receive a list, shuffle the list 10 times, and count and return how many times the list was the same as the original. Make sure that the function does not modify the original list!"
      ],
      "metadata": {
        "id": "DQ6JD5feSH-A"
      }
    },
    {
      "cell_type": "code",
      "source": [
        "# 6c\n",
        "\n",
        "def shufflecount(origlist):\n",
        "    \"\"\" Shuffles a list 10 times and counts how many times the list was the same as the original.\"\"\"\n",
        "    stringlist = origlist[:]\n",
        "    counter = 0\n",
        "    for i in range(10):\n",
        "        shuffle(stringlist)\n",
        "        if stringlist == origlist:\n",
        "            counter = counter + 1\n",
        "    return counter\n",
        "\n",
        "origlist = ['abc', 'xyz', 'hello', 'Coding rocks']\n",
        "counter = shufflecount(origlist)\n",
        "print(counter)"
      ],
      "metadata": {
        "colab": {
          "base_uri": "https://localhost:8080/"
        },
        "id": "ovOBI4ciS2lL",
        "outputId": "4997c49f-7732-41eb-cb56-0f4c810cd488"
      },
      "execution_count": 48,
      "outputs": [
        {
          "output_type": "stream",
          "name": "stdout",
          "text": [
            "1\n"
          ]
        }
      ]
    },
    {
      "cell_type": "markdown",
      "source": [
        "Time to get creative!! Try your own problems. Quiz each other. Put your best creative problems on the GPP Creative Problem chat for Class 16."
      ],
      "metadata": {
        "id": "UiIbXG5QTruD"
      }
    }
  ]
}